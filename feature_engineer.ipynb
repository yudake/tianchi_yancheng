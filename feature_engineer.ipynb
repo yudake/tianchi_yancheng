{
 "cells": [
  {
   "cell_type": "markdown",
   "metadata": {},
   "source": [
    "# 天池大赛·印象盐城\n",
    "\n",
    "## 特征工程\n",
    "\n",
    "初赛提供2012年1月-2017年10月盐城分车型销量配置数据。\n",
    "第一阶段需要参赛者预测2017年11月盐城分车型销量数据，第二阶段需要参赛者预测2017年12月盐城分车型销量数据。"
   ]
  },
  {
   "cell_type": "code",
   "execution_count": 1,
   "metadata": {
    "collapsed": true
   },
   "outputs": [],
   "source": [
    "import numpy as np\n",
    "import pandas as pd\n",
    "import matplotlib.pyplot as plt\n",
    "from sklearn.preprocessing import MinMaxScaler"
   ]
  },
  {
   "cell_type": "code",
   "execution_count": 2,
   "metadata": {
    "collapsed": false
   },
   "outputs": [],
   "source": [
    "train = pd.read_csv('[new] yancheng_train_20171226.csv', low_memory=False)\n",
    "test = pd.read_csv('yancheng_testA_20171225.csv')"
   ]
  },
  {
   "cell_type": "code",
   "execution_count": 3,
   "metadata": {
    "collapsed": false
   },
   "outputs": [
    {
     "data": {
      "text/html": [
       "<div>\n",
       "<table border=\"1\" class=\"dataframe\">\n",
       "  <thead>\n",
       "    <tr style=\"text-align: right;\">\n",
       "      <th></th>\n",
       "      <th>predict_date</th>\n",
       "      <th>class_id</th>\n",
       "      <th>predict_quantity</th>\n",
       "    </tr>\n",
       "  </thead>\n",
       "  <tbody>\n",
       "    <tr>\n",
       "      <th>0</th>\n",
       "      <td>201711</td>\n",
       "      <td>103507</td>\n",
       "      <td>NaN</td>\n",
       "    </tr>\n",
       "    <tr>\n",
       "      <th>1</th>\n",
       "      <td>201711</td>\n",
       "      <td>124140</td>\n",
       "      <td>NaN</td>\n",
       "    </tr>\n",
       "    <tr>\n",
       "      <th>2</th>\n",
       "      <td>201711</td>\n",
       "      <td>125403</td>\n",
       "      <td>NaN</td>\n",
       "    </tr>\n",
       "    <tr>\n",
       "      <th>3</th>\n",
       "      <td>201711</td>\n",
       "      <td>136916</td>\n",
       "      <td>NaN</td>\n",
       "    </tr>\n",
       "    <tr>\n",
       "      <th>4</th>\n",
       "      <td>201711</td>\n",
       "      <td>169673</td>\n",
       "      <td>NaN</td>\n",
       "    </tr>\n",
       "  </tbody>\n",
       "</table>\n",
       "</div>"
      ],
      "text/plain": [
       "   predict_date  class_id  predict_quantity\n",
       "0        201711    103507               NaN\n",
       "1        201711    124140               NaN\n",
       "2        201711    125403               NaN\n",
       "3        201711    136916               NaN\n",
       "4        201711    169673               NaN"
      ]
     },
     "execution_count": 3,
     "metadata": {},
     "output_type": "execute_result"
    }
   ],
   "source": [
    "test.head()"
   ]
  },
  {
   "cell_type": "markdown",
   "metadata": {
    "collapsed": true
   },
   "source": [
    "### 一、异常值处理"
   ]
  },
  {
   "cell_type": "markdown",
   "metadata": {},
   "source": [
    "1.1 发现数据里相同车型在同一月份里有两条记录，这里做简单加和"
   ]
  },
  {
   "cell_type": "code",
   "execution_count": 4,
   "metadata": {
    "collapsed": false
   },
   "outputs": [
    {
     "name": "stdout",
     "output_type": "stream",
     "text": [
      "<class 'pandas.core.frame.DataFrame'>\n",
      "RangeIndex: 20099 entries, 0 to 20098\n",
      "Data columns (total 31 columns):\n",
      "sale_date                20099 non-null int64\n",
      "class_id                 20099 non-null int64\n",
      "compartment              20099 non-null int64\n",
      "type_id                  20099 non-null int64\n",
      "level_id                 20099 non-null object\n",
      "department_id            20099 non-null int64\n",
      "TR                       20099 non-null object\n",
      "gearbox_type             20099 non-null object\n",
      "displacement             20099 non-null float64\n",
      "if_charging              20099 non-null object\n",
      "price_level              20099 non-null object\n",
      "driven_type_id           20099 non-null int64\n",
      "fuel_type_id             20099 non-null object\n",
      "newenergy_type_id        20099 non-null int64\n",
      "emission_standards_id    20099 non-null int64\n",
      "if_MPV_id                20099 non-null int64\n",
      "if_luxurious_id          20099 non-null int64\n",
      "power                    20099 non-null object\n",
      "cylinder_number          20099 non-null int64\n",
      "engine_torque            20099 non-null object\n",
      "car_length               20099 non-null int64\n",
      "car_width                20099 non-null int64\n",
      "car_height               20099 non-null int64\n",
      "total_quality            20099 non-null int64\n",
      "equipment_quality        20099 non-null int64\n",
      "rated_passenger          20099 non-null object\n",
      "wheelbase                20099 non-null int64\n",
      "front_track              20099 non-null int64\n",
      "rear_track               20099 non-null int64\n",
      "sale_quantity            20099 non-null int64\n",
      "brand_id                 20099 non-null int64\n",
      "dtypes: float64(1), int64(21), object(9)\n",
      "memory usage: 4.8+ MB\n"
     ]
    }
   ],
   "source": [
    "# labels = ['sale_date','class_id','sale_quantity']\n",
    "labels = ['sale_date','class_id','compartment','type_id','level_id','department_id','TR','gearbox_type','displacement','if_charging',\n",
    "          'price_level','driven_type_id','fuel_type_id','newenergy_type_id','emission_standards_id','if_MPV_id','if_luxurious_id','power',\n",
    "          'cylinder_number','engine_torque','car_length','car_width','car_height','total_quality','equipment_quality','rated_passenger',\n",
    "          'wheelbase','front_track','rear_track']\n",
    "# trainSale = train[labels]\n",
    "train = train.groupby(labels).agg('sum').reset_index()\n",
    "train.info()"
   ]
  },
  {
   "cell_type": "markdown",
   "metadata": {},
   "source": [
    "1.2 三个功率为81/70的条目里共有两款车\n",
    "\n",
    "    其中一款车有记载的功率为66和81，所以我们取平均值，令其为73\n",
    "    \n",
    "    另一款车有记载的功率为66，70,81和96，取平均值，令其为78"
   ]
  },
  {
   "cell_type": "code",
   "execution_count": 5,
   "metadata": {
    "collapsed": false
   },
   "outputs": [
    {
     "data": {
      "text/html": [
       "<div>\n",
       "<table border=\"1\" class=\"dataframe\">\n",
       "  <thead>\n",
       "    <tr style=\"text-align: right;\">\n",
       "      <th></th>\n",
       "      <th>sale_date</th>\n",
       "      <th>class_id</th>\n",
       "      <th>compartment</th>\n",
       "      <th>type_id</th>\n",
       "      <th>level_id</th>\n",
       "      <th>department_id</th>\n",
       "      <th>TR</th>\n",
       "      <th>gearbox_type</th>\n",
       "      <th>displacement</th>\n",
       "      <th>if_charging</th>\n",
       "      <th>...</th>\n",
       "      <th>car_width</th>\n",
       "      <th>car_height</th>\n",
       "      <th>total_quality</th>\n",
       "      <th>equipment_quality</th>\n",
       "      <th>rated_passenger</th>\n",
       "      <th>wheelbase</th>\n",
       "      <th>front_track</th>\n",
       "      <th>rear_track</th>\n",
       "      <th>sale_quantity</th>\n",
       "      <th>brand_id</th>\n",
       "    </tr>\n",
       "  </thead>\n",
       "  <tbody>\n",
       "    <tr>\n",
       "      <th>12382</th>\n",
       "      <td>201601</td>\n",
       "      <td>175962</td>\n",
       "      <td>3</td>\n",
       "      <td>2</td>\n",
       "      <td>1</td>\n",
       "      <td>4</td>\n",
       "      <td>5</td>\n",
       "      <td>MT</td>\n",
       "      <td>1.6</td>\n",
       "      <td>L</td>\n",
       "      <td>...</td>\n",
       "      <td>1706</td>\n",
       "      <td>1469</td>\n",
       "      <td>1735</td>\n",
       "      <td>1275</td>\n",
       "      <td>5</td>\n",
       "      <td>2603</td>\n",
       "      <td>1460</td>\n",
       "      <td>1500</td>\n",
       "      <td>8</td>\n",
       "      <td>750</td>\n",
       "    </tr>\n",
       "    <tr>\n",
       "      <th>13450</th>\n",
       "      <td>201603</td>\n",
       "      <td>961962</td>\n",
       "      <td>3</td>\n",
       "      <td>2</td>\n",
       "      <td>1</td>\n",
       "      <td>4</td>\n",
       "      <td>5</td>\n",
       "      <td>MT</td>\n",
       "      <td>1.6</td>\n",
       "      <td>L</td>\n",
       "      <td>...</td>\n",
       "      <td>1706</td>\n",
       "      <td>1470</td>\n",
       "      <td>1740</td>\n",
       "      <td>1260</td>\n",
       "      <td>5</td>\n",
       "      <td>2603</td>\n",
       "      <td>1460</td>\n",
       "      <td>1500</td>\n",
       "      <td>5</td>\n",
       "      <td>750</td>\n",
       "    </tr>\n",
       "    <tr>\n",
       "      <th>13478</th>\n",
       "      <td>201604</td>\n",
       "      <td>175962</td>\n",
       "      <td>3</td>\n",
       "      <td>2</td>\n",
       "      <td>1</td>\n",
       "      <td>4</td>\n",
       "      <td>5</td>\n",
       "      <td>MT</td>\n",
       "      <td>1.6</td>\n",
       "      <td>L</td>\n",
       "      <td>...</td>\n",
       "      <td>1706</td>\n",
       "      <td>1469</td>\n",
       "      <td>1735</td>\n",
       "      <td>1275</td>\n",
       "      <td>5</td>\n",
       "      <td>2603</td>\n",
       "      <td>1460</td>\n",
       "      <td>1500</td>\n",
       "      <td>32</td>\n",
       "      <td>750</td>\n",
       "    </tr>\n",
       "  </tbody>\n",
       "</table>\n",
       "<p>3 rows × 31 columns</p>\n",
       "</div>"
      ],
      "text/plain": [
       "       sale_date  class_id  compartment  type_id level_id  department_id TR  \\\n",
       "12382     201601    175962            3        2        1              4  5   \n",
       "13450     201603    961962            3        2        1              4  5   \n",
       "13478     201604    175962            3        2        1              4  5   \n",
       "\n",
       "      gearbox_type  displacement if_charging   ...    car_width  car_height  \\\n",
       "12382           MT           1.6           L   ...         1706        1469   \n",
       "13450           MT           1.6           L   ...         1706        1470   \n",
       "13478           MT           1.6           L   ...         1706        1469   \n",
       "\n",
       "      total_quality  equipment_quality  rated_passenger  wheelbase  \\\n",
       "12382          1735               1275                5       2603   \n",
       "13450          1740               1260                5       2603   \n",
       "13478          1735               1275                5       2603   \n",
       "\n",
       "       front_track rear_track  sale_quantity brand_id  \n",
       "12382         1460       1500              8      750  \n",
       "13450         1460       1500              5      750  \n",
       "13478         1460       1500             32      750  \n",
       "\n",
       "[3 rows x 31 columns]"
      ]
     },
     "execution_count": 5,
     "metadata": {},
     "output_type": "execute_result"
    }
   ],
   "source": [
    "train[train['power']=='81/70']"
   ]
  },
  {
   "cell_type": "code",
   "execution_count": 6,
   "metadata": {
    "collapsed": false
   },
   "outputs": [],
   "source": [
    "train.loc[12382,'power']=73\n",
    "train.loc[13478,'power']=73\n",
    "train.loc[13450,'power']=78\n",
    "train[['power']] = train[['power']].astype('float32')"
   ]
  },
  {
   "cell_type": "markdown",
   "metadata": {},
   "source": [
    "1.3 发动机扭矩\n",
    "\n",
    "    有三个功率是'155/140'，又是上面那三个货\n",
    "    \n",
    "    还有一个车型是'-'，给个平均值吧"
   ]
  },
  {
   "cell_type": "code",
   "execution_count": 7,
   "metadata": {
    "collapsed": false
   },
   "outputs": [
    {
     "data": {
      "text/html": [
       "<div>\n",
       "<table border=\"1\" class=\"dataframe\">\n",
       "  <thead>\n",
       "    <tr style=\"text-align: right;\">\n",
       "      <th></th>\n",
       "      <th>sale_date</th>\n",
       "      <th>class_id</th>\n",
       "      <th>compartment</th>\n",
       "      <th>type_id</th>\n",
       "      <th>level_id</th>\n",
       "      <th>department_id</th>\n",
       "      <th>TR</th>\n",
       "      <th>gearbox_type</th>\n",
       "      <th>displacement</th>\n",
       "      <th>if_charging</th>\n",
       "      <th>...</th>\n",
       "      <th>car_width</th>\n",
       "      <th>car_height</th>\n",
       "      <th>total_quality</th>\n",
       "      <th>equipment_quality</th>\n",
       "      <th>rated_passenger</th>\n",
       "      <th>wheelbase</th>\n",
       "      <th>front_track</th>\n",
       "      <th>rear_track</th>\n",
       "      <th>sale_quantity</th>\n",
       "      <th>brand_id</th>\n",
       "    </tr>\n",
       "  </thead>\n",
       "  <tbody>\n",
       "    <tr>\n",
       "      <th>12382</th>\n",
       "      <td>201601</td>\n",
       "      <td>175962</td>\n",
       "      <td>3</td>\n",
       "      <td>2</td>\n",
       "      <td>1</td>\n",
       "      <td>4</td>\n",
       "      <td>5</td>\n",
       "      <td>MT</td>\n",
       "      <td>1.6</td>\n",
       "      <td>L</td>\n",
       "      <td>...</td>\n",
       "      <td>1706</td>\n",
       "      <td>1469</td>\n",
       "      <td>1735</td>\n",
       "      <td>1275</td>\n",
       "      <td>5</td>\n",
       "      <td>2603</td>\n",
       "      <td>1460</td>\n",
       "      <td>1500</td>\n",
       "      <td>8</td>\n",
       "      <td>750</td>\n",
       "    </tr>\n",
       "    <tr>\n",
       "      <th>13450</th>\n",
       "      <td>201603</td>\n",
       "      <td>961962</td>\n",
       "      <td>3</td>\n",
       "      <td>2</td>\n",
       "      <td>1</td>\n",
       "      <td>4</td>\n",
       "      <td>5</td>\n",
       "      <td>MT</td>\n",
       "      <td>1.6</td>\n",
       "      <td>L</td>\n",
       "      <td>...</td>\n",
       "      <td>1706</td>\n",
       "      <td>1470</td>\n",
       "      <td>1740</td>\n",
       "      <td>1260</td>\n",
       "      <td>5</td>\n",
       "      <td>2603</td>\n",
       "      <td>1460</td>\n",
       "      <td>1500</td>\n",
       "      <td>5</td>\n",
       "      <td>750</td>\n",
       "    </tr>\n",
       "    <tr>\n",
       "      <th>13478</th>\n",
       "      <td>201604</td>\n",
       "      <td>175962</td>\n",
       "      <td>3</td>\n",
       "      <td>2</td>\n",
       "      <td>1</td>\n",
       "      <td>4</td>\n",
       "      <td>5</td>\n",
       "      <td>MT</td>\n",
       "      <td>1.6</td>\n",
       "      <td>L</td>\n",
       "      <td>...</td>\n",
       "      <td>1706</td>\n",
       "      <td>1469</td>\n",
       "      <td>1735</td>\n",
       "      <td>1275</td>\n",
       "      <td>5</td>\n",
       "      <td>2603</td>\n",
       "      <td>1460</td>\n",
       "      <td>1500</td>\n",
       "      <td>32</td>\n",
       "      <td>750</td>\n",
       "    </tr>\n",
       "  </tbody>\n",
       "</table>\n",
       "<p>3 rows × 31 columns</p>\n",
       "</div>"
      ],
      "text/plain": [
       "       sale_date  class_id  compartment  type_id level_id  department_id TR  \\\n",
       "12382     201601    175962            3        2        1              4  5   \n",
       "13450     201603    961962            3        2        1              4  5   \n",
       "13478     201604    175962            3        2        1              4  5   \n",
       "\n",
       "      gearbox_type  displacement if_charging   ...    car_width  car_height  \\\n",
       "12382           MT           1.6           L   ...         1706        1469   \n",
       "13450           MT           1.6           L   ...         1706        1470   \n",
       "13478           MT           1.6           L   ...         1706        1469   \n",
       "\n",
       "      total_quality  equipment_quality  rated_passenger  wheelbase  \\\n",
       "12382          1735               1275                5       2603   \n",
       "13450          1740               1260                5       2603   \n",
       "13478          1735               1275                5       2603   \n",
       "\n",
       "       front_track  rear_track  sale_quantity brand_id  \n",
       "12382         1460        1500              8      750  \n",
       "13450         1460        1500              5      750  \n",
       "13478         1460        1500             32      750  \n",
       "\n",
       "[3 rows x 31 columns]"
      ]
     },
     "execution_count": 7,
     "metadata": {},
     "output_type": "execute_result"
    }
   ],
   "source": [
    "train[train['engine_torque']=='155/140']"
   ]
  },
  {
   "cell_type": "code",
   "execution_count": 8,
   "metadata": {
    "collapsed": true
   },
   "outputs": [],
   "source": [
    "train.loc[12382,'engine_torque']=143.5\n",
    "train.loc[13478,'engine_torque']=143.5\n",
    "train.loc[13450,'engine_torque']=147.4"
   ]
  },
  {
   "cell_type": "code",
   "execution_count": 9,
   "metadata": {
    "collapsed": false
   },
   "outputs": [
    {
     "data": {
      "text/html": [
       "<div>\n",
       "<table border=\"1\" class=\"dataframe\">\n",
       "  <thead>\n",
       "    <tr style=\"text-align: right;\">\n",
       "      <th></th>\n",
       "      <th>sale_date</th>\n",
       "      <th>class_id</th>\n",
       "      <th>compartment</th>\n",
       "      <th>type_id</th>\n",
       "      <th>level_id</th>\n",
       "      <th>department_id</th>\n",
       "      <th>TR</th>\n",
       "      <th>gearbox_type</th>\n",
       "      <th>displacement</th>\n",
       "      <th>if_charging</th>\n",
       "      <th>...</th>\n",
       "      <th>car_width</th>\n",
       "      <th>car_height</th>\n",
       "      <th>total_quality</th>\n",
       "      <th>equipment_quality</th>\n",
       "      <th>rated_passenger</th>\n",
       "      <th>wheelbase</th>\n",
       "      <th>front_track</th>\n",
       "      <th>rear_track</th>\n",
       "      <th>sale_quantity</th>\n",
       "      <th>brand_id</th>\n",
       "    </tr>\n",
       "  </thead>\n",
       "  <tbody>\n",
       "    <tr>\n",
       "      <th>16287</th>\n",
       "      <td>201612</td>\n",
       "      <td>527765</td>\n",
       "      <td>2</td>\n",
       "      <td>2</td>\n",
       "      <td>5</td>\n",
       "      <td>1</td>\n",
       "      <td>1</td>\n",
       "      <td>AT</td>\n",
       "      <td>0.0</td>\n",
       "      <td>L</td>\n",
       "      <td>...</td>\n",
       "      <td>1630</td>\n",
       "      <td>1518</td>\n",
       "      <td>1360</td>\n",
       "      <td>1050</td>\n",
       "      <td>4</td>\n",
       "      <td>2360</td>\n",
       "      <td>1405</td>\n",
       "      <td>1400</td>\n",
       "      <td>195</td>\n",
       "      <td>236</td>\n",
       "    </tr>\n",
       "    <tr>\n",
       "      <th>16656</th>\n",
       "      <td>201701</td>\n",
       "      <td>527765</td>\n",
       "      <td>2</td>\n",
       "      <td>2</td>\n",
       "      <td>5</td>\n",
       "      <td>1</td>\n",
       "      <td>1</td>\n",
       "      <td>AT</td>\n",
       "      <td>0.0</td>\n",
       "      <td>L</td>\n",
       "      <td>...</td>\n",
       "      <td>1630</td>\n",
       "      <td>1518</td>\n",
       "      <td>1360</td>\n",
       "      <td>1050</td>\n",
       "      <td>4</td>\n",
       "      <td>2360</td>\n",
       "      <td>1405</td>\n",
       "      <td>1400</td>\n",
       "      <td>6</td>\n",
       "      <td>236</td>\n",
       "    </tr>\n",
       "    <tr>\n",
       "      <th>16657</th>\n",
       "      <td>201701</td>\n",
       "      <td>527765</td>\n",
       "      <td>2</td>\n",
       "      <td>2</td>\n",
       "      <td>5</td>\n",
       "      <td>1</td>\n",
       "      <td>1</td>\n",
       "      <td>AT</td>\n",
       "      <td>0.0</td>\n",
       "      <td>L</td>\n",
       "      <td>...</td>\n",
       "      <td>1630</td>\n",
       "      <td>1518</td>\n",
       "      <td>1360</td>\n",
       "      <td>1058</td>\n",
       "      <td>4</td>\n",
       "      <td>2360</td>\n",
       "      <td>1405</td>\n",
       "      <td>1400</td>\n",
       "      <td>6</td>\n",
       "      <td>236</td>\n",
       "    </tr>\n",
       "    <tr>\n",
       "      <th>17011</th>\n",
       "      <td>201702</td>\n",
       "      <td>527765</td>\n",
       "      <td>2</td>\n",
       "      <td>2</td>\n",
       "      <td>5</td>\n",
       "      <td>1</td>\n",
       "      <td>1</td>\n",
       "      <td>AT</td>\n",
       "      <td>0.0</td>\n",
       "      <td>L</td>\n",
       "      <td>...</td>\n",
       "      <td>1630</td>\n",
       "      <td>1518</td>\n",
       "      <td>1360</td>\n",
       "      <td>1050</td>\n",
       "      <td>4</td>\n",
       "      <td>2360</td>\n",
       "      <td>1405</td>\n",
       "      <td>1400</td>\n",
       "      <td>35</td>\n",
       "      <td>236</td>\n",
       "    </tr>\n",
       "    <tr>\n",
       "      <th>17379</th>\n",
       "      <td>201703</td>\n",
       "      <td>527765</td>\n",
       "      <td>2</td>\n",
       "      <td>2</td>\n",
       "      <td>5</td>\n",
       "      <td>1</td>\n",
       "      <td>1</td>\n",
       "      <td>AT</td>\n",
       "      <td>0.0</td>\n",
       "      <td>L</td>\n",
       "      <td>...</td>\n",
       "      <td>1630</td>\n",
       "      <td>1518</td>\n",
       "      <td>1360</td>\n",
       "      <td>1050</td>\n",
       "      <td>4</td>\n",
       "      <td>2360</td>\n",
       "      <td>1405</td>\n",
       "      <td>1400</td>\n",
       "      <td>59</td>\n",
       "      <td>236</td>\n",
       "    </tr>\n",
       "    <tr>\n",
       "      <th>17747</th>\n",
       "      <td>201704</td>\n",
       "      <td>527765</td>\n",
       "      <td>2</td>\n",
       "      <td>2</td>\n",
       "      <td>5</td>\n",
       "      <td>1</td>\n",
       "      <td>1</td>\n",
       "      <td>AT</td>\n",
       "      <td>0.0</td>\n",
       "      <td>L</td>\n",
       "      <td>...</td>\n",
       "      <td>1630</td>\n",
       "      <td>1518</td>\n",
       "      <td>1360</td>\n",
       "      <td>1050</td>\n",
       "      <td>4</td>\n",
       "      <td>2360</td>\n",
       "      <td>1405</td>\n",
       "      <td>1400</td>\n",
       "      <td>30</td>\n",
       "      <td>236</td>\n",
       "    </tr>\n",
       "    <tr>\n",
       "      <th>17748</th>\n",
       "      <td>201704</td>\n",
       "      <td>527765</td>\n",
       "      <td>2</td>\n",
       "      <td>2</td>\n",
       "      <td>5</td>\n",
       "      <td>1</td>\n",
       "      <td>1</td>\n",
       "      <td>AT</td>\n",
       "      <td>0.0</td>\n",
       "      <td>L</td>\n",
       "      <td>...</td>\n",
       "      <td>1630</td>\n",
       "      <td>1518</td>\n",
       "      <td>1360</td>\n",
       "      <td>1058</td>\n",
       "      <td>4</td>\n",
       "      <td>2360</td>\n",
       "      <td>1405</td>\n",
       "      <td>1400</td>\n",
       "      <td>18</td>\n",
       "      <td>236</td>\n",
       "    </tr>\n",
       "    <tr>\n",
       "      <th>18137</th>\n",
       "      <td>201705</td>\n",
       "      <td>527765</td>\n",
       "      <td>2</td>\n",
       "      <td>2</td>\n",
       "      <td>5</td>\n",
       "      <td>1</td>\n",
       "      <td>1</td>\n",
       "      <td>AT</td>\n",
       "      <td>0.0</td>\n",
       "      <td>L</td>\n",
       "      <td>...</td>\n",
       "      <td>1630</td>\n",
       "      <td>1518</td>\n",
       "      <td>1360</td>\n",
       "      <td>1050</td>\n",
       "      <td>4</td>\n",
       "      <td>2360</td>\n",
       "      <td>1405</td>\n",
       "      <td>1400</td>\n",
       "      <td>6</td>\n",
       "      <td>236</td>\n",
       "    </tr>\n",
       "    <tr>\n",
       "      <th>18138</th>\n",
       "      <td>201705</td>\n",
       "      <td>527765</td>\n",
       "      <td>2</td>\n",
       "      <td>2</td>\n",
       "      <td>5</td>\n",
       "      <td>1</td>\n",
       "      <td>1</td>\n",
       "      <td>AT</td>\n",
       "      <td>0.0</td>\n",
       "      <td>L</td>\n",
       "      <td>...</td>\n",
       "      <td>1630</td>\n",
       "      <td>1518</td>\n",
       "      <td>1360</td>\n",
       "      <td>1058</td>\n",
       "      <td>4</td>\n",
       "      <td>2360</td>\n",
       "      <td>1405</td>\n",
       "      <td>1400</td>\n",
       "      <td>24</td>\n",
       "      <td>236</td>\n",
       "    </tr>\n",
       "    <tr>\n",
       "      <th>18514</th>\n",
       "      <td>201706</td>\n",
       "      <td>527765</td>\n",
       "      <td>2</td>\n",
       "      <td>2</td>\n",
       "      <td>5</td>\n",
       "      <td>1</td>\n",
       "      <td>1</td>\n",
       "      <td>AT</td>\n",
       "      <td>0.0</td>\n",
       "      <td>L</td>\n",
       "      <td>...</td>\n",
       "      <td>1630</td>\n",
       "      <td>1518</td>\n",
       "      <td>1360</td>\n",
       "      <td>1050</td>\n",
       "      <td>4</td>\n",
       "      <td>2360</td>\n",
       "      <td>1405</td>\n",
       "      <td>1400</td>\n",
       "      <td>53</td>\n",
       "      <td>236</td>\n",
       "    </tr>\n",
       "    <tr>\n",
       "      <th>18515</th>\n",
       "      <td>201706</td>\n",
       "      <td>527765</td>\n",
       "      <td>2</td>\n",
       "      <td>2</td>\n",
       "      <td>5</td>\n",
       "      <td>1</td>\n",
       "      <td>1</td>\n",
       "      <td>AT</td>\n",
       "      <td>0.0</td>\n",
       "      <td>L</td>\n",
       "      <td>...</td>\n",
       "      <td>1630</td>\n",
       "      <td>1518</td>\n",
       "      <td>1360</td>\n",
       "      <td>1058</td>\n",
       "      <td>4</td>\n",
       "      <td>2360</td>\n",
       "      <td>1405</td>\n",
       "      <td>1400</td>\n",
       "      <td>12</td>\n",
       "      <td>236</td>\n",
       "    </tr>\n",
       "    <tr>\n",
       "      <th>18904</th>\n",
       "      <td>201707</td>\n",
       "      <td>527765</td>\n",
       "      <td>2</td>\n",
       "      <td>2</td>\n",
       "      <td>5</td>\n",
       "      <td>1</td>\n",
       "      <td>1</td>\n",
       "      <td>AT</td>\n",
       "      <td>0.0</td>\n",
       "      <td>L</td>\n",
       "      <td>...</td>\n",
       "      <td>1630</td>\n",
       "      <td>1518</td>\n",
       "      <td>1360</td>\n",
       "      <td>1050</td>\n",
       "      <td>4</td>\n",
       "      <td>2360</td>\n",
       "      <td>1405</td>\n",
       "      <td>1400</td>\n",
       "      <td>41</td>\n",
       "      <td>236</td>\n",
       "    </tr>\n",
       "    <tr>\n",
       "      <th>19293</th>\n",
       "      <td>201708</td>\n",
       "      <td>527765</td>\n",
       "      <td>2</td>\n",
       "      <td>2</td>\n",
       "      <td>5</td>\n",
       "      <td>1</td>\n",
       "      <td>1</td>\n",
       "      <td>AT</td>\n",
       "      <td>0.0</td>\n",
       "      <td>L</td>\n",
       "      <td>...</td>\n",
       "      <td>1630</td>\n",
       "      <td>1518</td>\n",
       "      <td>1360</td>\n",
       "      <td>1030</td>\n",
       "      <td>4</td>\n",
       "      <td>2360</td>\n",
       "      <td>1405</td>\n",
       "      <td>1400</td>\n",
       "      <td>6</td>\n",
       "      <td>236</td>\n",
       "    </tr>\n",
       "    <tr>\n",
       "      <th>19294</th>\n",
       "      <td>201708</td>\n",
       "      <td>527765</td>\n",
       "      <td>2</td>\n",
       "      <td>2</td>\n",
       "      <td>5</td>\n",
       "      <td>1</td>\n",
       "      <td>1</td>\n",
       "      <td>AT</td>\n",
       "      <td>0.0</td>\n",
       "      <td>L</td>\n",
       "      <td>...</td>\n",
       "      <td>1630</td>\n",
       "      <td>1518</td>\n",
       "      <td>1360</td>\n",
       "      <td>1050</td>\n",
       "      <td>4</td>\n",
       "      <td>2360</td>\n",
       "      <td>1405</td>\n",
       "      <td>1400</td>\n",
       "      <td>47</td>\n",
       "      <td>236</td>\n",
       "    </tr>\n",
       "    <tr>\n",
       "      <th>19295</th>\n",
       "      <td>201708</td>\n",
       "      <td>527765</td>\n",
       "      <td>2</td>\n",
       "      <td>2</td>\n",
       "      <td>5</td>\n",
       "      <td>1</td>\n",
       "      <td>1</td>\n",
       "      <td>AT</td>\n",
       "      <td>0.0</td>\n",
       "      <td>L</td>\n",
       "      <td>...</td>\n",
       "      <td>1630</td>\n",
       "      <td>1518</td>\n",
       "      <td>1360</td>\n",
       "      <td>1058</td>\n",
       "      <td>4</td>\n",
       "      <td>2360</td>\n",
       "      <td>1405</td>\n",
       "      <td>1400</td>\n",
       "      <td>12</td>\n",
       "      <td>236</td>\n",
       "    </tr>\n",
       "    <tr>\n",
       "      <th>19692</th>\n",
       "      <td>201709</td>\n",
       "      <td>527765</td>\n",
       "      <td>2</td>\n",
       "      <td>2</td>\n",
       "      <td>5</td>\n",
       "      <td>1</td>\n",
       "      <td>1</td>\n",
       "      <td>AT</td>\n",
       "      <td>0.0</td>\n",
       "      <td>L</td>\n",
       "      <td>...</td>\n",
       "      <td>1630</td>\n",
       "      <td>1518</td>\n",
       "      <td>1360</td>\n",
       "      <td>1050</td>\n",
       "      <td>4</td>\n",
       "      <td>2360</td>\n",
       "      <td>1405</td>\n",
       "      <td>1400</td>\n",
       "      <td>18</td>\n",
       "      <td>236</td>\n",
       "    </tr>\n",
       "    <tr>\n",
       "      <th>19693</th>\n",
       "      <td>201709</td>\n",
       "      <td>527765</td>\n",
       "      <td>2</td>\n",
       "      <td>2</td>\n",
       "      <td>5</td>\n",
       "      <td>1</td>\n",
       "      <td>1</td>\n",
       "      <td>AT</td>\n",
       "      <td>0.0</td>\n",
       "      <td>L</td>\n",
       "      <td>...</td>\n",
       "      <td>1630</td>\n",
       "      <td>1518</td>\n",
       "      <td>1360</td>\n",
       "      <td>1058</td>\n",
       "      <td>4</td>\n",
       "      <td>2360</td>\n",
       "      <td>1405</td>\n",
       "      <td>1400</td>\n",
       "      <td>6</td>\n",
       "      <td>236</td>\n",
       "    </tr>\n",
       "    <tr>\n",
       "      <th>19694</th>\n",
       "      <td>201709</td>\n",
       "      <td>527765</td>\n",
       "      <td>2</td>\n",
       "      <td>2</td>\n",
       "      <td>5</td>\n",
       "      <td>1</td>\n",
       "      <td>1</td>\n",
       "      <td>AT</td>\n",
       "      <td>0.0</td>\n",
       "      <td>L</td>\n",
       "      <td>...</td>\n",
       "      <td>1630</td>\n",
       "      <td>1518</td>\n",
       "      <td>1360</td>\n",
       "      <td>1030</td>\n",
       "      <td>4</td>\n",
       "      <td>2360</td>\n",
       "      <td>1405</td>\n",
       "      <td>1400</td>\n",
       "      <td>12</td>\n",
       "      <td>236</td>\n",
       "    </tr>\n",
       "    <tr>\n",
       "      <th>19993</th>\n",
       "      <td>201710</td>\n",
       "      <td>527765</td>\n",
       "      <td>2</td>\n",
       "      <td>2</td>\n",
       "      <td>5</td>\n",
       "      <td>1</td>\n",
       "      <td>1</td>\n",
       "      <td>AT</td>\n",
       "      <td>0.0</td>\n",
       "      <td>L</td>\n",
       "      <td>...</td>\n",
       "      <td>1630</td>\n",
       "      <td>1518</td>\n",
       "      <td>1360</td>\n",
       "      <td>1030</td>\n",
       "      <td>4</td>\n",
       "      <td>2360</td>\n",
       "      <td>1405</td>\n",
       "      <td>1400</td>\n",
       "      <td>65</td>\n",
       "      <td>236</td>\n",
       "    </tr>\n",
       "  </tbody>\n",
       "</table>\n",
       "<p>19 rows × 31 columns</p>\n",
       "</div>"
      ],
      "text/plain": [
       "       sale_date  class_id  compartment  type_id level_id  department_id TR  \\\n",
       "16287     201612    527765            2        2        5              1  1   \n",
       "16656     201701    527765            2        2        5              1  1   \n",
       "16657     201701    527765            2        2        5              1  1   \n",
       "17011     201702    527765            2        2        5              1  1   \n",
       "17379     201703    527765            2        2        5              1  1   \n",
       "17747     201704    527765            2        2        5              1  1   \n",
       "17748     201704    527765            2        2        5              1  1   \n",
       "18137     201705    527765            2        2        5              1  1   \n",
       "18138     201705    527765            2        2        5              1  1   \n",
       "18514     201706    527765            2        2        5              1  1   \n",
       "18515     201706    527765            2        2        5              1  1   \n",
       "18904     201707    527765            2        2        5              1  1   \n",
       "19293     201708    527765            2        2        5              1  1   \n",
       "19294     201708    527765            2        2        5              1  1   \n",
       "19295     201708    527765            2        2        5              1  1   \n",
       "19692     201709    527765            2        2        5              1  1   \n",
       "19693     201709    527765            2        2        5              1  1   \n",
       "19694     201709    527765            2        2        5              1  1   \n",
       "19993     201710    527765            2        2        5              1  1   \n",
       "\n",
       "      gearbox_type  displacement if_charging   ...    car_width  car_height  \\\n",
       "16287           AT           0.0           L   ...         1630        1518   \n",
       "16656           AT           0.0           L   ...         1630        1518   \n",
       "16657           AT           0.0           L   ...         1630        1518   \n",
       "17011           AT           0.0           L   ...         1630        1518   \n",
       "17379           AT           0.0           L   ...         1630        1518   \n",
       "17747           AT           0.0           L   ...         1630        1518   \n",
       "17748           AT           0.0           L   ...         1630        1518   \n",
       "18137           AT           0.0           L   ...         1630        1518   \n",
       "18138           AT           0.0           L   ...         1630        1518   \n",
       "18514           AT           0.0           L   ...         1630        1518   \n",
       "18515           AT           0.0           L   ...         1630        1518   \n",
       "18904           AT           0.0           L   ...         1630        1518   \n",
       "19293           AT           0.0           L   ...         1630        1518   \n",
       "19294           AT           0.0           L   ...         1630        1518   \n",
       "19295           AT           0.0           L   ...         1630        1518   \n",
       "19692           AT           0.0           L   ...         1630        1518   \n",
       "19693           AT           0.0           L   ...         1630        1518   \n",
       "19694           AT           0.0           L   ...         1630        1518   \n",
       "19993           AT           0.0           L   ...         1630        1518   \n",
       "\n",
       "      total_quality  equipment_quality  rated_passenger  wheelbase  \\\n",
       "16287          1360               1050                4       2360   \n",
       "16656          1360               1050                4       2360   \n",
       "16657          1360               1058                4       2360   \n",
       "17011          1360               1050                4       2360   \n",
       "17379          1360               1050                4       2360   \n",
       "17747          1360               1050                4       2360   \n",
       "17748          1360               1058                4       2360   \n",
       "18137          1360               1050                4       2360   \n",
       "18138          1360               1058                4       2360   \n",
       "18514          1360               1050                4       2360   \n",
       "18515          1360               1058                4       2360   \n",
       "18904          1360               1050                4       2360   \n",
       "19293          1360               1030                4       2360   \n",
       "19294          1360               1050                4       2360   \n",
       "19295          1360               1058                4       2360   \n",
       "19692          1360               1050                4       2360   \n",
       "19693          1360               1058                4       2360   \n",
       "19694          1360               1030                4       2360   \n",
       "19993          1360               1030                4       2360   \n",
       "\n",
       "       front_track  rear_track  sale_quantity brand_id  \n",
       "16287         1405        1400            195      236  \n",
       "16656         1405        1400              6      236  \n",
       "16657         1405        1400              6      236  \n",
       "17011         1405        1400             35      236  \n",
       "17379         1405        1400             59      236  \n",
       "17747         1405        1400             30      236  \n",
       "17748         1405        1400             18      236  \n",
       "18137         1405        1400              6      236  \n",
       "18138         1405        1400             24      236  \n",
       "18514         1405        1400             53      236  \n",
       "18515         1405        1400             12      236  \n",
       "18904         1405        1400             41      236  \n",
       "19293         1405        1400              6      236  \n",
       "19294         1405        1400             47      236  \n",
       "19295         1405        1400             12      236  \n",
       "19692         1405        1400             18      236  \n",
       "19693         1405        1400              6      236  \n",
       "19694         1405        1400             12      236  \n",
       "19993         1405        1400             65      236  \n",
       "\n",
       "[19 rows x 31 columns]"
      ]
     },
     "execution_count": 9,
     "metadata": {},
     "output_type": "execute_result"
    }
   ],
   "source": [
    "train[train['engine_torque']=='-']"
   ]
  },
  {
   "cell_type": "code",
   "execution_count": 10,
   "metadata": {
    "collapsed": false
   },
   "outputs": [
    {
     "name": "stderr",
     "output_type": "stream",
     "text": [
      "C:\\Users\\yudake\\Anaconda3\\lib\\site-packages\\ipykernel\\__main__.py:1: SettingWithCopyWarning: \n",
      "A value is trying to be set on a copy of a slice from a DataFrame\n",
      "\n",
      "See the caveats in the documentation: http://pandas.pydata.org/pandas-docs/stable/indexing.html#indexing-view-versus-copy\n",
      "  if __name__ == '__main__':\n"
     ]
    }
   ],
   "source": [
    "train['engine_torque'][train['engine_torque']=='-']=201.8\n",
    "train['engine_torque'] = train['engine_torque'].astype('float32')"
   ]
  },
  {
   "cell_type": "markdown",
   "metadata": {
    "collapsed": false
   },
   "source": [
    "### 二、特征处理"
   ]
  },
  {
   "cell_type": "markdown",
   "metadata": {},
   "source": [
    "2.1 获得年和月"
   ]
  },
  {
   "cell_type": "code",
   "execution_count": null,
   "metadata": {
    "collapsed": true
   },
   "outputs": [],
   "source": [
    "train['year'] = train['sale_date'].apply(lambda x: int(str(x)[0:4]))\n",
    "train['mouth'] = train['sale_date'].apply(lambda x: int(str(x)[4:6]))\n",
    "train.info()"
   ]
  },
  {
   "cell_type": "markdown",
   "metadata": {},
   "source": [
    "2.2 获得本车上个月的销量"
   ]
  },
  {
   "cell_type": "markdown",
   "metadata": {
    "collapsed": true
   },
   "source": [
    "2.1 品牌ID共有42个，进行One-hot编码"
   ]
  },
  {
   "cell_type": "code",
   "execution_count": 11,
   "metadata": {
    "collapsed": false
   },
   "outputs": [
    {
     "data": {
      "text/plain": [
       "array([ 761,  106,   98,  836,   12,  814,  831,  750,  537,  450,  692,\n",
       "        985,  841,  638,  872,  953,  304,  196,  783,  608,  637,   75,\n",
       "        923, 1566,  497,  813,  290, 1846,  807,  864,  498,  236,  542,\n",
       "        512,  294,   49, 1500,  126,  682,   68,   76, 1276], dtype=int64)"
      ]
     },
     "execution_count": 11,
     "metadata": {},
     "output_type": "execute_result"
    }
   ],
   "source": [
    "train['brand_id'].unique()"
   ]
  },
  {
   "cell_type": "code",
   "execution_count": 12,
   "metadata": {
    "collapsed": false
   },
   "outputs": [],
   "source": [
    "Brand_id_dummies = pd.get_dummies(train['brand_id'], prefix='brand_id')\n",
    "train = train.drop(['brand_id'],axis=1)\n",
    "train = pd.concat([train, Brand_id_dummies],axis=1)"
   ]
  },
  {
   "cell_type": "markdown",
   "metadata": {},
   "source": [
    "2.2 厢数有三种取值，进行One-hot编码"
   ]
  },
  {
   "cell_type": "code",
   "execution_count": 13,
   "metadata": {
    "collapsed": false
   },
   "outputs": [
    {
     "data": {
      "text/plain": [
       "array([2, 3, 1], dtype=int64)"
      ]
     },
     "execution_count": 13,
     "metadata": {},
     "output_type": "execute_result"
    }
   ],
   "source": [
    "train['compartment'].unique()"
   ]
  },
  {
   "cell_type": "code",
   "execution_count": 14,
   "metadata": {
    "collapsed": false
   },
   "outputs": [],
   "source": [
    "compartment_dummies = pd.get_dummies(train['compartment'], prefix='compartment')\n",
    "train = train.drop(['compartment'],axis=1)\n",
    "train = pd.concat([train, compartment_dummies],axis=1)"
   ]
  },
  {
   "cell_type": "markdown",
   "metadata": {},
   "source": [
    "2.3 车型类别有四种"
   ]
  },
  {
   "cell_type": "code",
   "execution_count": 15,
   "metadata": {
    "collapsed": false
   },
   "outputs": [
    {
     "data": {
      "text/plain": [
       "array([3, 2, 4, 1], dtype=int64)"
      ]
     },
     "execution_count": 15,
     "metadata": {},
     "output_type": "execute_result"
    }
   ],
   "source": [
    "train['type_id'].unique()"
   ]
  },
  {
   "cell_type": "code",
   "execution_count": 16,
   "metadata": {
    "collapsed": false
   },
   "outputs": [],
   "source": [
    "type_id_dummies = pd.get_dummies(train['type_id'], prefix='type_id')\n",
    "train = train.drop(['type_id'],axis=1)\n",
    "train = pd.concat([train, type_id_dummies],axis=1)"
   ]
  },
  {
   "cell_type": "markdown",
   "metadata": {},
   "source": [
    "2.4 车型级别有六种"
   ]
  },
  {
   "cell_type": "code",
   "execution_count": 17,
   "metadata": {
    "collapsed": false
   },
   "outputs": [
    {
     "data": {
      "text/plain": [
       "array(['2', '-', '1', '4', '3', '5'], dtype=object)"
      ]
     },
     "execution_count": 17,
     "metadata": {},
     "output_type": "execute_result"
    }
   ],
   "source": [
    "train['level_id'].unique()"
   ]
  },
  {
   "cell_type": "code",
   "execution_count": 18,
   "metadata": {
    "collapsed": false
   },
   "outputs": [],
   "source": [
    "level_id_dummies = pd.get_dummies(train['level_id'], prefix='level_id')\n",
    "train = train.drop(['level_id'],axis=1)\n",
    "train = pd.concat([train, level_id_dummies],axis=1)"
   ]
  },
  {
   "cell_type": "markdown",
   "metadata": {},
   "source": [
    "2.5 车型系别有七种"
   ]
  },
  {
   "cell_type": "code",
   "execution_count": 19,
   "metadata": {
    "collapsed": false
   },
   "outputs": [
    {
     "data": {
      "text/plain": [
       "array([2, 5, 1, 3, 4, 6, 7], dtype=int64)"
      ]
     },
     "execution_count": 19,
     "metadata": {},
     "output_type": "execute_result"
    }
   ],
   "source": [
    "train['department_id'].unique()"
   ]
  },
  {
   "cell_type": "code",
   "execution_count": 20,
   "metadata": {
    "collapsed": false
   },
   "outputs": [],
   "source": [
    "department_id_dummies = pd.get_dummies(train['department_id'], prefix='department_id')\n",
    "train = train.drop(['department_id'],axis=1)\n",
    "train = pd.concat([train, department_id_dummies],axis=1)"
   ]
  },
  {
   "cell_type": "markdown",
   "metadata": {},
   "source": [
    "2.6 变速器档位有十种"
   ]
  },
  {
   "cell_type": "code",
   "execution_count": 21,
   "metadata": {
    "collapsed": false
   },
   "outputs": [
    {
     "data": {
      "text/plain": [
       "array(['6', '4', '5', '8', '7', '0', '5;4', '8;7', '9', '1'], dtype=object)"
      ]
     },
     "execution_count": 21,
     "metadata": {},
     "output_type": "execute_result"
    }
   ],
   "source": [
    "train['TR'].unique()"
   ]
  },
  {
   "cell_type": "code",
   "execution_count": 22,
   "metadata": {
    "collapsed": false
   },
   "outputs": [],
   "source": [
    "TR_dummies = pd.get_dummies(train['TR'], prefix='TR')\n",
    "train = train.drop(['TR'],axis=1)\n",
    "train = pd.concat([train, TR_dummies],axis=1)"
   ]
  },
  {
   "cell_type": "markdown",
   "metadata": {},
   "source": [
    "2.7 变速器形式有七种"
   ]
  },
  {
   "cell_type": "code",
   "execution_count": 23,
   "metadata": {
    "collapsed": false
   },
   "outputs": [
    {
     "data": {
      "text/plain": [
       "array(['AT', 'MT', 'DCT', 'CVT', 'MT;AT', 'AT;DCT', 'AMT'], dtype=object)"
      ]
     },
     "execution_count": 23,
     "metadata": {},
     "output_type": "execute_result"
    }
   ],
   "source": [
    "train['gearbox_type'].unique()"
   ]
  },
  {
   "cell_type": "code",
   "execution_count": 24,
   "metadata": {
    "collapsed": false
   },
   "outputs": [],
   "source": [
    "gearbox_type_dummies = pd.get_dummies(train['gearbox_type'], prefix='gearbox_type')\n",
    "train = train.drop(['gearbox_type'],axis=1)\n",
    "train = pd.concat([train, gearbox_type_dummies],axis=1)"
   ]
  },
  {
   "cell_type": "markdown",
   "metadata": {},
   "source": [
    "2.8 排量\n",
    "\n",
    "    区间缩放"
   ]
  },
  {
   "cell_type": "code",
   "execution_count": 25,
   "metadata": {
    "collapsed": false
   },
   "outputs": [
    {
     "data": {
      "text/plain": [
       "array([ 2.4,  3. ,  2. ,  2.5,  1. ,  1.1,  1.2,  1.5,  1.4,  1.6,  1.8,\n",
       "        2.3,  1.9,  2.7,  2.8,  1.3,  3.6,  3.1,  0. ])"
      ]
     },
     "execution_count": 25,
     "metadata": {},
     "output_type": "execute_result"
    }
   ],
   "source": [
    "train['displacement'].unique()"
   ]
  },
  {
   "cell_type": "code",
   "execution_count": 26,
   "metadata": {
    "collapsed": false
   },
   "outputs": [
    {
     "name": "stderr",
     "output_type": "stream",
     "text": [
      "C:\\Users\\yudake\\Anaconda3\\lib\\site-packages\\ipykernel\\__main__.py:24: SettingWithCopyWarning: \n",
      "A value is trying to be set on a copy of a slice from a DataFrame\n",
      "\n",
      "See the caveats in the documentation: http://pandas.pydata.org/pandas-docs/stable/indexing.html#indexing-view-versus-copy\n"
     ]
    }
   ],
   "source": [
    "# def displacement2seg(displacement):\n",
    "#     if displacement < 1:\n",
    "#         displacement = 0\n",
    "#     elif displacement <= 1.3:\n",
    "#         displacement = 1\n",
    "#     elif displacement == 1.4:\n",
    "#         displacement = 2\n",
    "#     elif displacement == 1.5:\n",
    "#         displacement = 3\n",
    "#     elif displacement == 1.6:\n",
    "#         displacement = 4\n",
    "#     elif displacement == 1.8:\n",
    "#         displacement = 5\n",
    "#     elif displacement == 2.0:\n",
    "#         displacement = 6\n",
    "#     elif displacement <= 2.5:\n",
    "#         displacement = 7\n",
    "#     else:\n",
    "#         displacement = 8\n",
    "#     return displacement\n",
    "\n",
    "# train['displacement'] = train['displacement'].apply(displacement2seg)\n",
    "train.loc[:,'no_displacement']=0\n",
    "train['no_displacement'][train['displacement']==0]=1\n",
    "train['displacement'] = train['displacement'].apply(lambda x: (x-1.0)/(3.6-1.0))\n",
    "# displacement_dummies = pd.get_dummies(train['displacement'], prefix='displacement')\n",
    "# train = train.drop(['displacement'],axis=1)\n",
    "# train = pd.concat([train, displacement_dummies],axis=1)\n",
    "# train.info()"
   ]
  },
  {
   "cell_type": "markdown",
   "metadata": {},
   "source": [
    "2.9 是否增压"
   ]
  },
  {
   "cell_type": "code",
   "execution_count": 27,
   "metadata": {
    "collapsed": false
   },
   "outputs": [
    {
     "data": {
      "text/plain": [
       "array(['L', 'T'], dtype=object)"
      ]
     },
     "execution_count": 27,
     "metadata": {},
     "output_type": "execute_result"
    }
   ],
   "source": [
    "train['if_charging'].unique()"
   ]
  },
  {
   "cell_type": "code",
   "execution_count": 28,
   "metadata": {
    "collapsed": false
   },
   "outputs": [
    {
     "name": "stdout",
     "output_type": "stream",
     "text": [
      "<class 'pandas.core.frame.DataFrame'>\n",
      "RangeIndex: 20099 entries, 0 to 20098\n",
      "Columns: 105 entries, sale_date to if_charging_T\n",
      "dtypes: float32(2), float64(1), int64(18), object(3), uint8(81)\n",
      "memory usage: 5.1+ MB\n"
     ]
    }
   ],
   "source": [
    "if_charging_dummies = pd.get_dummies(train['if_charging'], prefix='if_charging')\n",
    "train = train.drop(['if_charging'],axis=1)\n",
    "train = pd.concat([train, if_charging_dummies],axis=1)\n",
    "train.info()"
   ]
  },
  {
   "cell_type": "markdown",
   "metadata": {},
   "source": [
    "2.10 成交段"
   ]
  },
  {
   "cell_type": "code",
   "execution_count": 29,
   "metadata": {
    "collapsed": false
   },
   "outputs": [
    {
     "data": {
      "text/plain": [
       "array(['35-50W', '15-20W', '5WL', '5-8W', '8-10W', '25-35W', '20-25W',\n",
       "       '10-15W', '50-75W'], dtype=object)"
      ]
     },
     "execution_count": 29,
     "metadata": {},
     "output_type": "execute_result"
    }
   ],
   "source": [
    "train['price_level'].unique()"
   ]
  },
  {
   "cell_type": "code",
   "execution_count": 30,
   "metadata": {
    "collapsed": false
   },
   "outputs": [
    {
     "name": "stdout",
     "output_type": "stream",
     "text": [
      "<class 'pandas.core.frame.DataFrame'>\n",
      "RangeIndex: 20099 entries, 0 to 20098\n",
      "Columns: 113 entries, sale_date to price_level_8-10W\n",
      "dtypes: float32(2), float64(1), int64(18), object(2), uint8(90)\n",
      "memory usage: 5.1+ MB\n"
     ]
    }
   ],
   "source": [
    "price_level_dummies = pd.get_dummies(train['price_level'], prefix='price_level')\n",
    "train = train.drop(['price_level'],axis=1)\n",
    "train = pd.concat([train, price_level_dummies],axis=1)\n",
    "train.info()"
   ]
  },
  {
   "cell_type": "markdown",
   "metadata": {},
   "source": [
    "2.11 驱动形式"
   ]
  },
  {
   "cell_type": "code",
   "execution_count": 31,
   "metadata": {
    "collapsed": false
   },
   "outputs": [
    {
     "data": {
      "text/plain": [
       "array([1, 2, 3], dtype=int64)"
      ]
     },
     "execution_count": 31,
     "metadata": {},
     "output_type": "execute_result"
    }
   ],
   "source": [
    "train['driven_type_id'].unique()"
   ]
  },
  {
   "cell_type": "code",
   "execution_count": 32,
   "metadata": {
    "collapsed": false
   },
   "outputs": [
    {
     "name": "stdout",
     "output_type": "stream",
     "text": [
      "<class 'pandas.core.frame.DataFrame'>\n",
      "RangeIndex: 20099 entries, 0 to 20098\n",
      "Columns: 115 entries, sale_date to driven_type_id_3\n",
      "dtypes: float32(2), float64(1), int64(17), object(2), uint8(93)\n",
      "memory usage: 5.0+ MB\n"
     ]
    }
   ],
   "source": [
    "driven_type_id_dummies = pd.get_dummies(train['driven_type_id'], prefix='driven_type_id')\n",
    "train = train.drop(['driven_type_id'],axis=1)\n",
    "train = pd.concat([train, driven_type_id_dummies],axis=1)\n",
    "train.info()"
   ]
  },
  {
   "cell_type": "markdown",
   "metadata": {},
   "source": [
    "2.12 燃料种类"
   ]
  },
  {
   "cell_type": "code",
   "execution_count": 33,
   "metadata": {
    "collapsed": false
   },
   "outputs": [
    {
     "data": {
      "text/plain": [
       "array(['1', '3', '2', '-', '4'], dtype=object)"
      ]
     },
     "execution_count": 33,
     "metadata": {},
     "output_type": "execute_result"
    }
   ],
   "source": [
    "train['fuel_type_id'].unique()"
   ]
  },
  {
   "cell_type": "code",
   "execution_count": 34,
   "metadata": {
    "collapsed": false
   },
   "outputs": [
    {
     "name": "stdout",
     "output_type": "stream",
     "text": [
      "<class 'pandas.core.frame.DataFrame'>\n",
      "RangeIndex: 20099 entries, 0 to 20098\n",
      "Columns: 119 entries, sale_date to fuel_type_id_4\n",
      "dtypes: float32(2), float64(1), int64(17), object(1), uint8(98)\n",
      "memory usage: 4.9+ MB\n"
     ]
    }
   ],
   "source": [
    "fuel_type_id_dummies = pd.get_dummies(train['fuel_type_id'], prefix='fuel_type_id')\n",
    "train = train.drop(['fuel_type_id'],axis=1)\n",
    "train = pd.concat([train, fuel_type_id_dummies],axis=1)\n",
    "train.info()"
   ]
  },
  {
   "cell_type": "markdown",
   "metadata": {},
   "source": [
    "2.13 新能源类型"
   ]
  },
  {
   "cell_type": "code",
   "execution_count": 35,
   "metadata": {
    "collapsed": false
   },
   "outputs": [
    {
     "data": {
      "text/plain": [
       "array([1, 2, 3, 4], dtype=int64)"
      ]
     },
     "execution_count": 35,
     "metadata": {},
     "output_type": "execute_result"
    }
   ],
   "source": [
    "train['newenergy_type_id'].unique()"
   ]
  },
  {
   "cell_type": "code",
   "execution_count": 36,
   "metadata": {
    "collapsed": false
   },
   "outputs": [
    {
     "name": "stdout",
     "output_type": "stream",
     "text": [
      "<class 'pandas.core.frame.DataFrame'>\n",
      "RangeIndex: 20099 entries, 0 to 20098\n",
      "Columns: 122 entries, sale_date to newenergy_type_id_4\n",
      "dtypes: float32(2), float64(1), int64(16), object(1), uint8(102)\n",
      "memory usage: 4.9+ MB\n"
     ]
    }
   ],
   "source": [
    "newenergy_type_id_dummies = pd.get_dummies(train['newenergy_type_id'], prefix='newenergy_type_id')\n",
    "train = train.drop(['newenergy_type_id'],axis=1)\n",
    "train = pd.concat([train, newenergy_type_id_dummies],axis=1)\n",
    "train.info()"
   ]
  },
  {
   "cell_type": "markdown",
   "metadata": {},
   "source": [
    "2.14 排放标准"
   ]
  },
  {
   "cell_type": "code",
   "execution_count": 37,
   "metadata": {
    "collapsed": false
   },
   "outputs": [
    {
     "data": {
      "text/plain": [
       "array([3, 5, 1, 2], dtype=int64)"
      ]
     },
     "execution_count": 37,
     "metadata": {},
     "output_type": "execute_result"
    }
   ],
   "source": [
    "train['emission_standards_id'].unique()"
   ]
  },
  {
   "cell_type": "code",
   "execution_count": 38,
   "metadata": {
    "collapsed": false
   },
   "outputs": [
    {
     "name": "stdout",
     "output_type": "stream",
     "text": [
      "<class 'pandas.core.frame.DataFrame'>\n",
      "RangeIndex: 20099 entries, 0 to 20098\n",
      "Columns: 125 entries, sale_date to emission_standards_id_5\n",
      "dtypes: float32(2), float64(1), int64(15), object(1), uint8(106)\n",
      "memory usage: 4.8+ MB\n"
     ]
    }
   ],
   "source": [
    "emission_standards_id_dummies = pd.get_dummies(train['emission_standards_id'], prefix='emission_standards_id')\n",
    "train = train.drop(['emission_standards_id'],axis=1)\n",
    "train = pd.concat([train, emission_standards_id_dummies],axis=1)\n",
    "train.info()"
   ]
  },
  {
   "cell_type": "markdown",
   "metadata": {},
   "source": [
    "2.15 是否微客MPV"
   ]
  },
  {
   "cell_type": "code",
   "execution_count": 39,
   "metadata": {
    "collapsed": false
   },
   "outputs": [
    {
     "data": {
      "text/plain": [
       "array([2, 1], dtype=int64)"
      ]
     },
     "execution_count": 39,
     "metadata": {},
     "output_type": "execute_result"
    }
   ],
   "source": [
    "train['if_MPV_id'].unique()"
   ]
  },
  {
   "cell_type": "code",
   "execution_count": 40,
   "metadata": {
    "collapsed": false
   },
   "outputs": [
    {
     "name": "stdout",
     "output_type": "stream",
     "text": [
      "<class 'pandas.core.frame.DataFrame'>\n",
      "RangeIndex: 20099 entries, 0 to 20098\n",
      "Columns: 126 entries, sale_date to if_MPV_id_2\n",
      "dtypes: float32(2), float64(1), int64(14), object(1), uint8(108)\n",
      "memory usage: 4.7+ MB\n"
     ]
    }
   ],
   "source": [
    "if_MPV_id_dummies = pd.get_dummies(train['if_MPV_id'], prefix='if_MPV_id')\n",
    "train = train.drop(['if_MPV_id'],axis=1)\n",
    "train = pd.concat([train, if_MPV_id_dummies],axis=1)\n",
    "train.info()"
   ]
  },
  {
   "cell_type": "markdown",
   "metadata": {},
   "source": [
    "2.16 是否豪华"
   ]
  },
  {
   "cell_type": "code",
   "execution_count": 41,
   "metadata": {
    "collapsed": false
   },
   "outputs": [
    {
     "data": {
      "text/plain": [
       "array([1, 2], dtype=int64)"
      ]
     },
     "execution_count": 41,
     "metadata": {},
     "output_type": "execute_result"
    }
   ],
   "source": [
    "train['if_luxurious_id'].unique()"
   ]
  },
  {
   "cell_type": "code",
   "execution_count": 42,
   "metadata": {
    "collapsed": false
   },
   "outputs": [
    {
     "name": "stdout",
     "output_type": "stream",
     "text": [
      "<class 'pandas.core.frame.DataFrame'>\n",
      "RangeIndex: 20099 entries, 0 to 20098\n",
      "Columns: 127 entries, sale_date to if_luxurious_id_2\n",
      "dtypes: float32(2), float64(1), int64(13), object(1), uint8(110)\n",
      "memory usage: 4.6+ MB\n"
     ]
    }
   ],
   "source": [
    "if_luxurious_id_dummies = pd.get_dummies(train['if_luxurious_id'], prefix='if_luxurious_id')\n",
    "train = train.drop(['if_luxurious_id'],axis=1)\n",
    "train = pd.concat([train, if_luxurious_id_dummies],axis=1)\n",
    "train.info()"
   ]
  },
  {
   "cell_type": "markdown",
   "metadata": {},
   "source": [
    "2.17 功率"
   ]
  },
  {
   "cell_type": "code",
   "execution_count": 43,
   "metadata": {
    "collapsed": false
   },
   "outputs": [
    {
     "data": {
      "text/plain": [
       "array([ 123.        ,  190.        ,  108.        ,  109.        ,\n",
       "        135.        ,   45.        ,   50.        ,   60.        ,\n",
       "         63.        ,  104.        ,   78.        ,   80.        ,\n",
       "        144.        ,  167.        ,  211.        ,  250.        ,\n",
       "         78.69999695,   90.40000153,   96.        ,  118.        ,\n",
       "        147.        ,  110.        ,  125.        ,  166.        ,\n",
       "        137.        ,  103.        ,   90.        ,   74.        ,\n",
       "         86.        ,   89.        ,  105.        ,  126.        ,\n",
       "         98.        ,   77.        ,   88.        ,  112.        ,\n",
       "        160.        ,  115.        ,  132.        ,  155.        ,\n",
       "        150.        ,  180.        ,  171.        ,   83.        ,\n",
       "         82.        ,   81.58000183,   93.        ,  140.        ,\n",
       "        121.        ,  130.        ,  162.        ,  213.        ,\n",
       "         73.        ,  114.        ,  120.        ,  128.        ,\n",
       "        106.        ,   70.        ,   68.        ,  184.        ,\n",
       "        113.        ,  119.        ,  122.        ,   92.        ,\n",
       "        195.        ,  220.        ,  102.        ,   93.80000305,\n",
       "        107.        ,  178.        ,   81.        ,  200.        ,\n",
       "         66.        ,  198.        ,  227.        ,  188.        ,\n",
       "        187.        ,  131.        ,  152.        ,  134.        ,\n",
       "        111.        ,   75.        ,  192.        ,   79.        ,\n",
       "        193.        ,  228.        ,  116.        ,   61.5       ,\n",
       "        165.        ,  101.        ,   84.        ,  164.        ,\n",
       "        186.        ,   91.59999847,  100.        ,   65.        ,\n",
       "        128.69999695,  133.        ,   85.        ,  117.69999695,\n",
       "        145.        ,   94.        ,   60.29999924,   63.5       ,\n",
       "        132.3999939 ,  245.        ,   95.30000305,   95.59999847,\n",
       "        179.        ,   95.        ,  141.        ,  157.        ,\n",
       "        189.        ,  124.        ,  185.        ,  182.        ,\n",
       "         73.30000305,  142.        ,   91.        ,  169.        ,\n",
       "         90.19999695,  148.        ,   30.        ,  191.        ,\n",
       "        127.        ,  128.5       ,  172.        ,   36.        ])"
      ]
     },
     "execution_count": 43,
     "metadata": {},
     "output_type": "execute_result"
    }
   ],
   "source": [
    "train['power'].unique()"
   ]
  },
  {
   "cell_type": "code",
   "execution_count": 44,
   "metadata": {
    "collapsed": false
   },
   "outputs": [
    {
     "name": "stderr",
     "output_type": "stream",
     "text": [
      "C:\\Users\\yudake\\Anaconda3\\lib\\site-packages\\sklearn\\preprocessing\\data.py:321: DeprecationWarning: Passing 1d arrays as data is deprecated in 0.17 and will raise ValueError in 0.19. Reshape your data either using X.reshape(-1, 1) if your data has a single feature or X.reshape(1, -1) if it contains a single sample.\n",
      "  warnings.warn(DEPRECATION_MSG_1D, DeprecationWarning)\n",
      "C:\\Users\\yudake\\Anaconda3\\lib\\site-packages\\sklearn\\preprocessing\\data.py:356: DeprecationWarning: Passing 1d arrays as data is deprecated in 0.17 and will raise ValueError in 0.19. Reshape your data either using X.reshape(-1, 1) if your data has a single feature or X.reshape(1, -1) if it contains a single sample.\n",
      "  warnings.warn(DEPRECATION_MSG_1D, DeprecationWarning)\n"
     ]
    }
   ],
   "source": [
    "train['power'] = MinMaxScaler().fit_transform(train['power'])"
   ]
  },
  {
   "cell_type": "markdown",
   "metadata": {},
   "source": [
    "2.17 缸数"
   ]
  },
  {
   "cell_type": "code",
   "execution_count": 45,
   "metadata": {
    "collapsed": false
   },
   "outputs": [
    {
     "data": {
      "text/plain": [
       "array([4, 6, 3, 0], dtype=int64)"
      ]
     },
     "execution_count": 45,
     "metadata": {},
     "output_type": "execute_result"
    }
   ],
   "source": [
    "train['cylinder_number'].unique()"
   ]
  },
  {
   "cell_type": "code",
   "execution_count": 46,
   "metadata": {
    "collapsed": false
   },
   "outputs": [],
   "source": [
    "cylinder_number_dummies = pd.get_dummies(train['cylinder_number'], prefix='cylinder_number')\n",
    "train = train.drop(['cylinder_number'],axis=1)\n",
    "train = pd.concat([train, cylinder_number_dummies],axis=1)"
   ]
  },
  {
   "cell_type": "markdown",
   "metadata": {},
   "source": [
    "2.18 发动机扭矩"
   ]
  },
  {
   "cell_type": "code",
   "execution_count": 47,
   "metadata": {
    "collapsed": false
   },
   "outputs": [
    {
     "name": "stderr",
     "output_type": "stream",
     "text": [
      "C:\\Users\\yudake\\Anaconda3\\lib\\site-packages\\sklearn\\preprocessing\\data.py:321: DeprecationWarning: Passing 1d arrays as data is deprecated in 0.17 and will raise ValueError in 0.19. Reshape your data either using X.reshape(-1, 1) if your data has a single feature or X.reshape(1, -1) if it contains a single sample.\n",
      "  warnings.warn(DEPRECATION_MSG_1D, DeprecationWarning)\n",
      "C:\\Users\\yudake\\Anaconda3\\lib\\site-packages\\sklearn\\preprocessing\\data.py:356: DeprecationWarning: Passing 1d arrays as data is deprecated in 0.17 and will raise ValueError in 0.19. Reshape your data either using X.reshape(-1, 1) if your data has a single feature or X.reshape(1, -1) if it contains a single sample.\n",
      "  warnings.warn(DEPRECATION_MSG_1D, DeprecationWarning)\n"
     ]
    }
   ],
   "source": [
    "train['engine_torque'] = MinMaxScaler().fit_transform(train['engine_torque'])"
   ]
  },
  {
   "cell_type": "markdown",
   "metadata": {},
   "source": [
    "2.19 车长"
   ]
  },
  {
   "cell_type": "code",
   "execution_count": 48,
   "metadata": {
    "collapsed": false
   },
   "outputs": [
    {
     "name": "stderr",
     "output_type": "stream",
     "text": [
      "C:\\Users\\yudake\\Anaconda3\\lib\\site-packages\\sklearn\\utils\\validation.py:429: DataConversionWarning: Data with input dtype int64 was converted to float64 by MinMaxScaler.\n",
      "  warnings.warn(msg, _DataConversionWarning)\n",
      "C:\\Users\\yudake\\Anaconda3\\lib\\site-packages\\sklearn\\preprocessing\\data.py:321: DeprecationWarning: Passing 1d arrays as data is deprecated in 0.17 and will raise ValueError in 0.19. Reshape your data either using X.reshape(-1, 1) if your data has a single feature or X.reshape(1, -1) if it contains a single sample.\n",
      "  warnings.warn(DEPRECATION_MSG_1D, DeprecationWarning)\n",
      "C:\\Users\\yudake\\Anaconda3\\lib\\site-packages\\sklearn\\preprocessing\\data.py:356: DeprecationWarning: Passing 1d arrays as data is deprecated in 0.17 and will raise ValueError in 0.19. Reshape your data either using X.reshape(-1, 1) if your data has a single feature or X.reshape(1, -1) if it contains a single sample.\n",
      "  warnings.warn(DEPRECATION_MSG_1D, DeprecationWarning)\n"
     ]
    }
   ],
   "source": [
    "train['car_length'] = MinMaxScaler().fit_transform(train['car_length'])"
   ]
  },
  {
   "cell_type": "markdown",
   "metadata": {},
   "source": [
    "2.20 车宽"
   ]
  },
  {
   "cell_type": "code",
   "execution_count": 49,
   "metadata": {
    "collapsed": false
   },
   "outputs": [
    {
     "name": "stderr",
     "output_type": "stream",
     "text": [
      "C:\\Users\\yudake\\Anaconda3\\lib\\site-packages\\sklearn\\utils\\validation.py:429: DataConversionWarning: Data with input dtype int64 was converted to float64 by MinMaxScaler.\n",
      "  warnings.warn(msg, _DataConversionWarning)\n",
      "C:\\Users\\yudake\\Anaconda3\\lib\\site-packages\\sklearn\\preprocessing\\data.py:321: DeprecationWarning: Passing 1d arrays as data is deprecated in 0.17 and will raise ValueError in 0.19. Reshape your data either using X.reshape(-1, 1) if your data has a single feature or X.reshape(1, -1) if it contains a single sample.\n",
      "  warnings.warn(DEPRECATION_MSG_1D, DeprecationWarning)\n",
      "C:\\Users\\yudake\\Anaconda3\\lib\\site-packages\\sklearn\\preprocessing\\data.py:356: DeprecationWarning: Passing 1d arrays as data is deprecated in 0.17 and will raise ValueError in 0.19. Reshape your data either using X.reshape(-1, 1) if your data has a single feature or X.reshape(1, -1) if it contains a single sample.\n",
      "  warnings.warn(DEPRECATION_MSG_1D, DeprecationWarning)\n"
     ]
    }
   ],
   "source": [
    "train['car_width'] = MinMaxScaler().fit_transform(train['car_width'])"
   ]
  },
  {
   "cell_type": "markdown",
   "metadata": {},
   "source": [
    "2.21 车高"
   ]
  },
  {
   "cell_type": "code",
   "execution_count": 50,
   "metadata": {
    "collapsed": false
   },
   "outputs": [
    {
     "name": "stderr",
     "output_type": "stream",
     "text": [
      "C:\\Users\\yudake\\Anaconda3\\lib\\site-packages\\sklearn\\utils\\validation.py:429: DataConversionWarning: Data with input dtype int64 was converted to float64 by MinMaxScaler.\n",
      "  warnings.warn(msg, _DataConversionWarning)\n",
      "C:\\Users\\yudake\\Anaconda3\\lib\\site-packages\\sklearn\\preprocessing\\data.py:321: DeprecationWarning: Passing 1d arrays as data is deprecated in 0.17 and will raise ValueError in 0.19. Reshape your data either using X.reshape(-1, 1) if your data has a single feature or X.reshape(1, -1) if it contains a single sample.\n",
      "  warnings.warn(DEPRECATION_MSG_1D, DeprecationWarning)\n",
      "C:\\Users\\yudake\\Anaconda3\\lib\\site-packages\\sklearn\\preprocessing\\data.py:356: DeprecationWarning: Passing 1d arrays as data is deprecated in 0.17 and will raise ValueError in 0.19. Reshape your data either using X.reshape(-1, 1) if your data has a single feature or X.reshape(1, -1) if it contains a single sample.\n",
      "  warnings.warn(DEPRECATION_MSG_1D, DeprecationWarning)\n"
     ]
    }
   ],
   "source": [
    "train['car_height'] = MinMaxScaler().fit_transform(train['car_height'])"
   ]
  },
  {
   "cell_type": "markdown",
   "metadata": {},
   "source": [
    "2.22 质量"
   ]
  },
  {
   "cell_type": "code",
   "execution_count": 51,
   "metadata": {
    "collapsed": false
   },
   "outputs": [
    {
     "name": "stderr",
     "output_type": "stream",
     "text": [
      "C:\\Users\\yudake\\Anaconda3\\lib\\site-packages\\sklearn\\utils\\validation.py:429: DataConversionWarning: Data with input dtype int64 was converted to float64 by MinMaxScaler.\n",
      "  warnings.warn(msg, _DataConversionWarning)\n",
      "C:\\Users\\yudake\\Anaconda3\\lib\\site-packages\\sklearn\\preprocessing\\data.py:321: DeprecationWarning: Passing 1d arrays as data is deprecated in 0.17 and will raise ValueError in 0.19. Reshape your data either using X.reshape(-1, 1) if your data has a single feature or X.reshape(1, -1) if it contains a single sample.\n",
      "  warnings.warn(DEPRECATION_MSG_1D, DeprecationWarning)\n",
      "C:\\Users\\yudake\\Anaconda3\\lib\\site-packages\\sklearn\\preprocessing\\data.py:356: DeprecationWarning: Passing 1d arrays as data is deprecated in 0.17 and will raise ValueError in 0.19. Reshape your data either using X.reshape(-1, 1) if your data has a single feature or X.reshape(1, -1) if it contains a single sample.\n",
      "  warnings.warn(DEPRECATION_MSG_1D, DeprecationWarning)\n"
     ]
    }
   ],
   "source": [
    "train['total_quality'] = MinMaxScaler().fit_transform(train['total_quality'])"
   ]
  },
  {
   "cell_type": "markdown",
   "metadata": {},
   "source": [
    "2.23 装备质量"
   ]
  },
  {
   "cell_type": "code",
   "execution_count": 52,
   "metadata": {
    "collapsed": false
   },
   "outputs": [
    {
     "name": "stderr",
     "output_type": "stream",
     "text": [
      "C:\\Users\\yudake\\Anaconda3\\lib\\site-packages\\sklearn\\utils\\validation.py:429: DataConversionWarning: Data with input dtype int64 was converted to float64 by MinMaxScaler.\n",
      "  warnings.warn(msg, _DataConversionWarning)\n",
      "C:\\Users\\yudake\\Anaconda3\\lib\\site-packages\\sklearn\\preprocessing\\data.py:321: DeprecationWarning: Passing 1d arrays as data is deprecated in 0.17 and will raise ValueError in 0.19. Reshape your data either using X.reshape(-1, 1) if your data has a single feature or X.reshape(1, -1) if it contains a single sample.\n",
      "  warnings.warn(DEPRECATION_MSG_1D, DeprecationWarning)\n",
      "C:\\Users\\yudake\\Anaconda3\\lib\\site-packages\\sklearn\\preprocessing\\data.py:356: DeprecationWarning: Passing 1d arrays as data is deprecated in 0.17 and will raise ValueError in 0.19. Reshape your data either using X.reshape(-1, 1) if your data has a single feature or X.reshape(1, -1) if it contains a single sample.\n",
      "  warnings.warn(DEPRECATION_MSG_1D, DeprecationWarning)\n"
     ]
    }
   ],
   "source": [
    "train['equipment_quality'] = MinMaxScaler().fit_transform(train['equipment_quality'])"
   ]
  },
  {
   "cell_type": "markdown",
   "metadata": {},
   "source": [
    "2.24 轴距"
   ]
  },
  {
   "cell_type": "code",
   "execution_count": 53,
   "metadata": {
    "collapsed": false
   },
   "outputs": [
    {
     "name": "stderr",
     "output_type": "stream",
     "text": [
      "C:\\Users\\yudake\\Anaconda3\\lib\\site-packages\\sklearn\\utils\\validation.py:429: DataConversionWarning: Data with input dtype int64 was converted to float64 by MinMaxScaler.\n",
      "  warnings.warn(msg, _DataConversionWarning)\n",
      "C:\\Users\\yudake\\Anaconda3\\lib\\site-packages\\sklearn\\preprocessing\\data.py:321: DeprecationWarning: Passing 1d arrays as data is deprecated in 0.17 and will raise ValueError in 0.19. Reshape your data either using X.reshape(-1, 1) if your data has a single feature or X.reshape(1, -1) if it contains a single sample.\n",
      "  warnings.warn(DEPRECATION_MSG_1D, DeprecationWarning)\n",
      "C:\\Users\\yudake\\Anaconda3\\lib\\site-packages\\sklearn\\preprocessing\\data.py:356: DeprecationWarning: Passing 1d arrays as data is deprecated in 0.17 and will raise ValueError in 0.19. Reshape your data either using X.reshape(-1, 1) if your data has a single feature or X.reshape(1, -1) if it contains a single sample.\n",
      "  warnings.warn(DEPRECATION_MSG_1D, DeprecationWarning)\n"
     ]
    }
   ],
   "source": [
    "train['wheelbase'] = MinMaxScaler().fit_transform(train['wheelbase'])"
   ]
  },
  {
   "cell_type": "markdown",
   "metadata": {},
   "source": [
    "2.25 前轮距"
   ]
  },
  {
   "cell_type": "code",
   "execution_count": 54,
   "metadata": {
    "collapsed": false
   },
   "outputs": [
    {
     "name": "stderr",
     "output_type": "stream",
     "text": [
      "C:\\Users\\yudake\\Anaconda3\\lib\\site-packages\\sklearn\\utils\\validation.py:429: DataConversionWarning: Data with input dtype int64 was converted to float64 by MinMaxScaler.\n",
      "  warnings.warn(msg, _DataConversionWarning)\n",
      "C:\\Users\\yudake\\Anaconda3\\lib\\site-packages\\sklearn\\preprocessing\\data.py:321: DeprecationWarning: Passing 1d arrays as data is deprecated in 0.17 and will raise ValueError in 0.19. Reshape your data either using X.reshape(-1, 1) if your data has a single feature or X.reshape(1, -1) if it contains a single sample.\n",
      "  warnings.warn(DEPRECATION_MSG_1D, DeprecationWarning)\n",
      "C:\\Users\\yudake\\Anaconda3\\lib\\site-packages\\sklearn\\preprocessing\\data.py:356: DeprecationWarning: Passing 1d arrays as data is deprecated in 0.17 and will raise ValueError in 0.19. Reshape your data either using X.reshape(-1, 1) if your data has a single feature or X.reshape(1, -1) if it contains a single sample.\n",
      "  warnings.warn(DEPRECATION_MSG_1D, DeprecationWarning)\n"
     ]
    }
   ],
   "source": [
    "train['front_track'] = MinMaxScaler().fit_transform(train['front_track'])"
   ]
  },
  {
   "cell_type": "markdown",
   "metadata": {},
   "source": [
    "2.26 后轮距"
   ]
  },
  {
   "cell_type": "code",
   "execution_count": 55,
   "metadata": {
    "collapsed": false
   },
   "outputs": [
    {
     "name": "stderr",
     "output_type": "stream",
     "text": [
      "C:\\Users\\yudake\\Anaconda3\\lib\\site-packages\\sklearn\\utils\\validation.py:429: DataConversionWarning: Data with input dtype int64 was converted to float64 by MinMaxScaler.\n",
      "  warnings.warn(msg, _DataConversionWarning)\n",
      "C:\\Users\\yudake\\Anaconda3\\lib\\site-packages\\sklearn\\preprocessing\\data.py:321: DeprecationWarning: Passing 1d arrays as data is deprecated in 0.17 and will raise ValueError in 0.19. Reshape your data either using X.reshape(-1, 1) if your data has a single feature or X.reshape(1, -1) if it contains a single sample.\n",
      "  warnings.warn(DEPRECATION_MSG_1D, DeprecationWarning)\n",
      "C:\\Users\\yudake\\Anaconda3\\lib\\site-packages\\sklearn\\preprocessing\\data.py:356: DeprecationWarning: Passing 1d arrays as data is deprecated in 0.17 and will raise ValueError in 0.19. Reshape your data either using X.reshape(-1, 1) if your data has a single feature or X.reshape(1, -1) if it contains a single sample.\n",
      "  warnings.warn(DEPRECATION_MSG_1D, DeprecationWarning)\n"
     ]
    }
   ],
   "source": [
    "train['rear_track'] = MinMaxScaler().fit_transform(train['rear_track'])"
   ]
  },
  {
   "cell_type": "markdown",
   "metadata": {},
   "source": [
    "2.27 额定载客"
   ]
  },
  {
   "cell_type": "code",
   "execution_count": 56,
   "metadata": {
    "collapsed": false
   },
   "outputs": [
    {
     "data": {
      "text/plain": [
       "array(['7', '5', '7-8', '6-8', '6-7', '5-8', '5-7', '4-5', '9', '4'], dtype=object)"
      ]
     },
     "execution_count": 56,
     "metadata": {},
     "output_type": "execute_result"
    }
   ],
   "source": [
    "train['rated_passenger'].unique()"
   ]
  },
  {
   "cell_type": "code",
   "execution_count": 57,
   "metadata": {
    "collapsed": true
   },
   "outputs": [],
   "source": [
    "rated_passenger_dummies = pd.get_dummies(train['rated_passenger'], prefix='rated_passenger')\n",
    "train = train.drop(['rated_passenger'],axis=1)\n",
    "train = pd.concat([train, rated_passenger_dummies],axis=1)"
   ]
  },
  {
   "cell_type": "markdown",
   "metadata": {},
   "source": [
    "2.28 得到月份与年份"
   ]
  },
  {
   "cell_type": "code",
   "execution_count": 58,
   "metadata": {
    "collapsed": false
   },
   "outputs": [
    {
     "name": "stdout",
     "output_type": "stream",
     "text": [
      "<class 'pandas.core.frame.DataFrame'>\n",
      "RangeIndex: 20099 entries, 0 to 20098\n",
      "Columns: 141 entries, sale_date to mouth\n",
      "dtypes: float32(2), float64(9), int64(6), uint8(124)\n",
      "memory usage: 4.8 MB\n"
     ]
    }
   ],
   "source": [
    "train['year'] = train['sale_date'].apply(lambda x: int(str(x)[0:4]))\n",
    "train['mouth'] = train['sale_date'].apply(lambda x: int(str(x)[4:6]))\n",
    "train.info()"
   ]
  },
  {
   "cell_type": "code",
   "execution_count": null,
   "metadata": {
    "collapsed": true
   },
   "outputs": [],
   "source": [
    "labels = ['class_id','compartment','type_id','level_id','department_id','TR','gearbox_type','displacement','if_charging',\n",
    "          'price_level','driven_type_id','fuel_type_id','newenergy_type_id','emission_standards_id','if_MPV_id','if_luxurious_id','power',\n",
    "          'cylinder_number','engine_torque','car_length','car_width','car_height','total_quality','equipment_quality','rated_passenger',\n",
    "          'wheelbase','front_track','rear_track']"
   ]
  }
 ],
 "metadata": {
  "anaconda-cloud": {},
  "kernelspec": {
   "display_name": "Python 3",
   "language": "python",
   "name": "python3"
  },
  "language_info": {
   "codemirror_mode": {
    "name": "ipython",
    "version": 3
   },
   "file_extension": ".py",
   "mimetype": "text/x-python",
   "name": "python",
   "nbconvert_exporter": "python",
   "pygments_lexer": "ipython3",
   "version": "3.6.0"
  }
 },
 "nbformat": 4,
 "nbformat_minor": 1
}
