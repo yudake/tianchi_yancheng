{
 "cells": [
  {
   "cell_type": "markdown",
   "metadata": {},
   "source": [
    "# 天池大赛·印象盐城\n",
    "\n",
    "## 数据分析\n",
    "\n",
    "初赛提供2012年1月-2017年10月盐城分车型销量配置数据。\n",
    "第一阶段需要参赛者预测2017年11月盐城分车型销量数据，第二阶段需要参赛者预测2017年12月盐城分车型销量数据。"
   ]
  },
  {
   "cell_type": "markdown",
   "metadata": {},
   "source": [
    "### 一、首先加载所需要的库"
   ]
  },
  {
   "cell_type": "code",
   "execution_count": 1,
   "metadata": {
    "collapsed": true
   },
   "outputs": [],
   "source": [
    "import numpy as np\n",
    "import pandas as pd\n",
    "import matplotlib.pyplot as plt"
   ]
  },
  {
   "cell_type": "markdown",
   "metadata": {},
   "source": [
    "### 二、加载文件"
   ]
  },
  {
   "cell_type": "code",
   "execution_count": 31,
   "metadata": {
    "collapsed": false
   },
   "outputs": [
    {
     "name": "stdout",
     "output_type": "stream",
     "text": [
      "<class 'pandas.core.frame.DataFrame'>\n",
      "RangeIndex: 20157 entries, 0 to 20156\n",
      "Data columns (total 32 columns):\n",
      "sale_date                20157 non-null int64\n",
      "class_id                 20157 non-null int64\n",
      "sale_quantity            20157 non-null int64\n",
      "brand_id                 20157 non-null int64\n",
      "compartment              20157 non-null int64\n",
      "type_id                  20157 non-null int64\n",
      "level_id                 20157 non-null object\n",
      "department_id            20157 non-null int64\n",
      "TR                       20157 non-null object\n",
      "gearbox_type             20157 non-null object\n",
      "displacement             20157 non-null float64\n",
      "if_charging              20157 non-null object\n",
      "price_level              20157 non-null object\n",
      "price                    20157 non-null object\n",
      "driven_type_id           20157 non-null int64\n",
      "fuel_type_id             20157 non-null object\n",
      "newenergy_type_id        20157 non-null int64\n",
      "emission_standards_id    20157 non-null int64\n",
      "if_MPV_id                20157 non-null int64\n",
      "if_luxurious_id          20157 non-null int64\n",
      "power                    20157 non-null object\n",
      "cylinder_number          20157 non-null int64\n",
      "engine_torque            20157 non-null object\n",
      "car_length               20157 non-null int64\n",
      "car_width                20157 non-null int64\n",
      "car_height               20157 non-null int64\n",
      "total_quality            20157 non-null int64\n",
      "equipment_quality        20157 non-null int64\n",
      "rated_passenger          20157 non-null object\n",
      "wheelbase                20157 non-null int64\n",
      "front_track              20157 non-null int64\n",
      "rear_track               20157 non-null int64\n",
      "dtypes: float64(1), int64(21), object(10)\n",
      "memory usage: 4.9+ MB\n"
     ]
    }
   ],
   "source": [
    "train = pd.read_csv('[new] yancheng_train_20171226.csv', low_memory=False)\n",
    "test = pd.read_csv('yancheng_testA_20171225.csv')\n",
    "train.info()"
   ]
  },
  {
   "cell_type": "code",
   "execution_count": 32,
   "metadata": {
    "collapsed": false
   },
   "outputs": [
    {
     "data": {
      "text/html": [
       "<div>\n",
       "<table border=\"1\" class=\"dataframe\">\n",
       "  <thead>\n",
       "    <tr style=\"text-align: right;\">\n",
       "      <th></th>\n",
       "      <th>predict_date</th>\n",
       "      <th>class_id</th>\n",
       "      <th>predict_quantity</th>\n",
       "    </tr>\n",
       "  </thead>\n",
       "  <tbody>\n",
       "    <tr>\n",
       "      <th>0</th>\n",
       "      <td>201711</td>\n",
       "      <td>103507</td>\n",
       "      <td>NaN</td>\n",
       "    </tr>\n",
       "    <tr>\n",
       "      <th>1</th>\n",
       "      <td>201711</td>\n",
       "      <td>124140</td>\n",
       "      <td>NaN</td>\n",
       "    </tr>\n",
       "    <tr>\n",
       "      <th>2</th>\n",
       "      <td>201711</td>\n",
       "      <td>125403</td>\n",
       "      <td>NaN</td>\n",
       "    </tr>\n",
       "    <tr>\n",
       "      <th>3</th>\n",
       "      <td>201711</td>\n",
       "      <td>136916</td>\n",
       "      <td>NaN</td>\n",
       "    </tr>\n",
       "    <tr>\n",
       "      <th>4</th>\n",
       "      <td>201711</td>\n",
       "      <td>169673</td>\n",
       "      <td>NaN</td>\n",
       "    </tr>\n",
       "  </tbody>\n",
       "</table>\n",
       "</div>"
      ],
      "text/plain": [
       "   predict_date  class_id  predict_quantity\n",
       "0        201711    103507               NaN\n",
       "1        201711    124140               NaN\n",
       "2        201711    125403               NaN\n",
       "3        201711    136916               NaN\n",
       "4        201711    169673               NaN"
      ]
     },
     "execution_count": 32,
     "metadata": {},
     "output_type": "execute_result"
    }
   ],
   "source": [
    "test.head()"
   ]
  },
  {
   "cell_type": "markdown",
   "metadata": {},
   "source": [
    "### 三、空值与特殊值\n",
    "\n",
    "    经检查不存在空值\n",
    "    \n",
    "    特殊值\n",
    "\n",
    "        车型级别    存在一个值为'-'\n",
    "\n",
    "        排量        存在一个值为'0.'\n",
    "\n",
    "        燃料种类    存在一个值为'-'\n",
    "    \n",
    "        功率        存在一个值是'81/70'\n",
    "\n",
    "        缸数        存在一个值为'0'\n",
    "    \n",
    "        发动机扭矩  存在一个值是'-'"
   ]
  },
  {
   "cell_type": "code",
   "execution_count": 33,
   "metadata": {
    "collapsed": false
   },
   "outputs": [
    {
     "data": {
      "text/html": [
       "<div>\n",
       "<table border=\"1\" class=\"dataframe\">\n",
       "  <thead>\n",
       "    <tr style=\"text-align: right;\">\n",
       "      <th></th>\n",
       "      <th>sale_date</th>\n",
       "      <th>class_id</th>\n",
       "      <th>sale_quantity</th>\n",
       "      <th>brand_id</th>\n",
       "      <th>compartment</th>\n",
       "      <th>type_id</th>\n",
       "      <th>level_id</th>\n",
       "      <th>department_id</th>\n",
       "      <th>TR</th>\n",
       "      <th>gearbox_type</th>\n",
       "      <th>...</th>\n",
       "      <th>engine_torque</th>\n",
       "      <th>car_length</th>\n",
       "      <th>car_width</th>\n",
       "      <th>car_height</th>\n",
       "      <th>total_quality</th>\n",
       "      <th>equipment_quality</th>\n",
       "      <th>rated_passenger</th>\n",
       "      <th>wheelbase</th>\n",
       "      <th>front_track</th>\n",
       "      <th>rear_track</th>\n",
       "    </tr>\n",
       "  </thead>\n",
       "  <tbody>\n",
       "  </tbody>\n",
       "</table>\n",
       "<p>0 rows × 32 columns</p>\n",
       "</div>"
      ],
      "text/plain": [
       "Empty DataFrame\n",
       "Columns: [sale_date, class_id, sale_quantity, brand_id, compartment, type_id, level_id, department_id, TR, gearbox_type, displacement, if_charging, price_level, price, driven_type_id, fuel_type_id, newenergy_type_id, emission_standards_id, if_MPV_id, if_luxurious_id, power, cylinder_number, engine_torque, car_length, car_width, car_height, total_quality, equipment_quality, rated_passenger, wheelbase, front_track, rear_track]\n",
       "Index: []\n",
       "\n",
       "[0 rows x 32 columns]"
      ]
     },
     "execution_count": 33,
     "metadata": {},
     "output_type": "execute_result"
    }
   ],
   "source": [
    "train[train.isnull().values==True]"
   ]
  },
  {
   "cell_type": "markdown",
   "metadata": {},
   "source": [
    "### 四、各字段数据的含义\n",
    "\n",
    "| 字段 | 含义 | 示例 |\n",
    "| ---- | ---- | ---- |\n",
    "| sale_date | 销售日期 | 201201 |\n",
    "| class_id | 车型ID | 234567 |\n",
    "| sale_quantity | 销量 | 15 |\n",
    "| brand_id | 品牌ID | 234 |\n",
    "| compartment | 厢数 | 3 |\n",
    "| type_id | 车型类别ID | 1 |\n",
    "| level_id | 车型级别ID | 1 |\n",
    "| department_id | 车型系别ID | 1 |\n",
    "| TR | 变速器档位 | 6 |\n",
    "| gearbox_type | 变速器形式 | AT |\n",
    "| displacement | 排量 | 2.5 |\n",
    "| if_charging | 是否增压 | L |\n",
    "| price_level | 成交段 | 35-50W（“W”：万元，“WL”：万元以下） |\n",
    "| driven_type_id | 驱动形式ID | 1 |\n",
    "| fuel_type_id | 燃料种类ID | 1 |\n",
    "| newenergy_type_id | 新能源类型ID | 1 |\n",
    "| emission_standards_id | 排放标准ID | 1 |\n",
    "| if_MPV_id | 是否微客MPV | 1 |\n",
    "| if_luxurious_id | 是否豪华ID | 1 |\n",
    "| power | 功率 | 160 |\n",
    "| cylinder_number | 缸数 | 6 |\n",
    "| engine_torque | 发动机扭矩 | 250 |\n",
    "| car_length | 车长 | 4531 |\n",
    "| car_width | 车宽 | 1817 |\n",
    "| car_height | 车高 | 1421 |\n",
    "| total_quality | 总质量 | 1980 |\n",
    "| equipment_quality | 整备质量 | 1565 |\n",
    "| rated_passenger | 额定载客 | 5 |\n",
    "| wheelbase | 轴距 | 2760 |\n",
    "| front_track | 前轮距 | 1500 |\n",
    "| rear_track | 后轮距 | 1529 |"
   ]
  },
  {
   "cell_type": "markdown",
   "metadata": {},
   "source": [
    "### 五、查看车辆某些属性与销量的关系"
   ]
  },
  {
   "cell_type": "markdown",
   "metadata": {},
   "source": [
    "##### 销售日期\n",
    "\n",
    "可以看出销量在随年份上涨，而且每年年底都会有一个峰值"
   ]
  },
  {
   "cell_type": "code",
   "execution_count": 34,
   "metadata": {
    "collapsed": false
   },
   "outputs": [
    {
     "data": {
      "image/png": "[encoded data removed]",
      "text/plain": [
       "<matplotlib.figure.Figure at 0x14e91322160>"
      ]
     },
     "metadata": {},
     "output_type": "display_data"
    }
   ],
   "source": [
    "labels = ['sale_date', 'sale_quantity']\n",
    "trainDate = train[labels]\n",
    "trainDate = trainDate.groupby(trainDate['sale_date']).agg('sum').reset_index()\n",
    "xlabel=range(len(trainDate))\n",
    "plt.plot(xlabel, trainDate['sale_quantity'])\n",
    "plt.xticks(np.arange(0,len(trainDate),12), trainDate['sale_date'][0::12])\n",
    "plt.ylabel('sale_quantity')\n",
    "plt.xlabel('sale_date')\n",
    "plt.show()"
   ]
  },
  {
   "cell_type": "markdown",
   "metadata": {},
   "source": [
    "##### 排量\n",
    "\n"
   ]
  },
  {
   "cell_type": "code",
   "execution_count": 35,
   "metadata": {
    "collapsed": false
   },
   "outputs": [
    {
     "data": {
      "image/png": "[encoded data removed]",
      "text/plain": [
       "<matplotlib.figure.Figure at 0x14e8f803588>"
      ]
     },
     "metadata": {},
     "output_type": "display_data"
    }
   ],
   "source": [
    "labels = ['displacement', 'sale_quantity']\n",
    "trainPower = train[labels]\n",
    "trainPower = trainPower.groupby(trainPower['displacement']).agg('sum').reset_index()\n",
    "plt.bar(trainPower['displacement'], trainPower['sale_quantity'],width=0.1,align='center')\n",
    "plt.ylabel('sale_quantity')\n",
    "plt.xlabel('displacement')\n",
    "plt.show()"
   ]
  },
  {
   "cell_type": "markdown",
   "metadata": {},
   "source": [
    "##### 功率\n",
    "\n",
    "其中17932,18554,18600三行的功率是81/70，不明白什么意思，可能是同一车型既有81功率也有70功率的，下面直接将这三行数据删除了"
   ]
  },
  {
   "cell_type": "code",
   "execution_count": 39,
   "metadata": {
    "collapsed": false
   },
   "outputs": [
    {
     "data": {
      "image/png": "[encoded data removed]",
      "text/plain": [
       "<matplotlib.figure.Figure at 0x14e8faeebe0>"
      ]
     },
     "metadata": {},
     "output_type": "display_data"
    }
   ],
   "source": [
    "labels = ['power', 'sale_quantity']\n",
    "trainPower = train[labels]\n",
    "trainPower = trainPower.drop([17932,18554,18600],axis=0).reset_index(drop=True)\n",
    "trainPower['power'] = trainPower['power'].astype('float32')\n",
    "trainPower = trainPower.groupby(trainPower['power']).agg('sum').reset_index()\n",
    "plt.bar(trainPower['power'], trainPower['sale_quantity'])\n",
    "plt.ylabel('sale_quantity')\n",
    "plt.xlabel('power')\n",
    "plt.show()"
   ]
  },
  {
   "cell_type": "markdown",
   "metadata": {},
   "source": [
    "##### 长度\n",
    "\n",
    "可以发现在4600左右销量最好。"
   ]
  },
  {
   "cell_type": "code",
   "execution_count": 8,
   "metadata": {
    "collapsed": false
   },
   "outputs": [
    {
     "data": {
      "image/png": "[encoded data removed]",
      "text/plain": [
       "<matplotlib.figure.Figure at 0x14e8f089eb8>"
      ]
     },
     "metadata": {},
     "output_type": "display_data"
    }
   ],
   "source": [
    "labels = ['car_length', 'sale_quantity']\n",
    "trainLength = train[labels]\n",
    "trainLength['car_length'].astype('float32')\n",
    "trainLength = trainLength.groupby(trainLength['car_length']).agg('sum').reset_index()\n",
    "plt.bar(trainLength['car_length'], trainLength['sale_quantity'])\n",
    "plt.ylabel('sale_quantity')\n",
    "plt.xlabel('car_length')\n",
    "plt.show()"
   ]
  },
  {
   "cell_type": "markdown",
   "metadata": {},
   "source": [
    "##### 宽度\n",
    "\n",
    "可以发现在1780左右销量最好。"
   ]
  },
  {
   "cell_type": "code",
   "execution_count": 9,
   "metadata": {
    "collapsed": false
   },
   "outputs": [
    {
     "data": {
      "image/png": "[encoded data removed]",
      "text/plain": [
       "<matplotlib.figure.Figure at 0x14e8f4200f0>"
      ]
     },
     "metadata": {},
     "output_type": "display_data"
    }
   ],
   "source": [
    "labels = ['car_width', 'sale_quantity']\n",
    "trainWidth = train[labels]\n",
    "trainWidth['car_width'].astype('float32')\n",
    "trainWidth = trainWidth.groupby(trainWidth['car_width']).agg('sum').reset_index()\n",
    "plt.bar(trainWidth['car_width'], trainWidth['sale_quantity'])\n",
    "plt.ylabel('sale_quantity')\n",
    "plt.xlabel('car_width')\n",
    "plt.show()"
   ]
  },
  {
   "cell_type": "markdown",
   "metadata": {},
   "source": [
    "##### 高度\n",
    "\n",
    "在高度为1460左右销量最高"
   ]
  },
  {
   "cell_type": "code",
   "execution_count": 10,
   "metadata": {
    "collapsed": false
   },
   "outputs": [
    {
     "data": {
      "image/png": "[encoded data removed]",
      "text/plain": [
       "<matplotlib.figure.Figure at 0x14e8f316fd0>"
      ]
     },
     "metadata": {},
     "output_type": "display_data"
    }
   ],
   "source": [
    "labels = ['car_height', 'sale_quantity']\n",
    "trainHeight = train[labels]\n",
    "trainHeight['car_height'].astype('float32')\n",
    "trainHeight = trainHeight.groupby(trainHeight['car_height']).agg('sum').reset_index()\n",
    "plt.bar(trainHeight['car_height'], trainHeight['sale_quantity'])\n",
    "plt.ylabel('sale_quantity')\n",
    "plt.xlabel('car_height')\n",
    "plt.show()"
   ]
  },
  {
   "cell_type": "markdown",
   "metadata": {},
   "source": [
    "##### 质量\n",
    "\n",
    "在1700到1850左右最受欢迎"
   ]
  },
  {
   "cell_type": "code",
   "execution_count": 11,
   "metadata": {
    "collapsed": false
   },
   "outputs": [
    {
     "data": {
      "image/png": "[encoded data removed]",
      "text/plain": [
       "<matplotlib.figure.Figure at 0x14e8fbeb1d0>"
      ]
     },
     "metadata": {},
     "output_type": "display_data"
    }
   ],
   "source": [
    "labels = ['total_quality', 'sale_quantity']\n",
    "trainQuality = train[labels]\n",
    "trainQuality['total_quality'].astype('float32')\n",
    "trainQuality = trainQuality.groupby(trainQuality['total_quality']).agg('sum').reset_index()\n",
    "plt.bar(trainQuality['total_quality'], trainQuality['sale_quantity'])\n",
    "plt.ylabel('sale_quantity')\n",
    "plt.xlabel('total_quality')\n",
    "plt.show()"
   ]
  },
  {
   "cell_type": "markdown",
   "metadata": {},
   "source": [
    "##### 装备质量"
   ]
  },
  {
   "cell_type": "code",
   "execution_count": 12,
   "metadata": {
    "collapsed": false
   },
   "outputs": [
    {
     "data": {
      "image/png": "[encoded data removed]",
      "text/plain": [
       "<matplotlib.figure.Figure at 0x14e8fc8bd30>"
      ]
     },
     "metadata": {},
     "output_type": "display_data"
    }
   ],
   "source": [
    "labels = ['equipment_quality', 'sale_quantity']\n",
    "trainEQuality = train[labels]\n",
    "trainEQuality['equipment_quality'].astype('float32')\n",
    "trainEQuality = trainEQuality.groupby(trainEQuality['equipment_quality']).agg('sum').reset_index()\n",
    "plt.bar(trainEQuality['equipment_quality'], trainEQuality['sale_quantity'])\n",
    "plt.ylabel('sale_quantity')\n",
    "plt.xlabel('equipment_quality')\n",
    "plt.show()"
   ]
  },
  {
   "cell_type": "markdown",
   "metadata": {},
   "source": [
    "##### 轴距"
   ]
  },
  {
   "cell_type": "code",
   "execution_count": 13,
   "metadata": {
    "collapsed": false
   },
   "outputs": [
    {
     "data": {
      "image/png": "[encoded data removed]",
      "text/plain": [
       "<matplotlib.figure.Figure at 0x14e8f66c0b8>"
      ]
     },
     "metadata": {},
     "output_type": "display_data"
    }
   ],
   "source": [
    "labels = ['wheelbase', 'sale_quantity']\n",
    "trainWheelbase = train[labels]\n",
    "trainWheelbase['wheelbase'].astype('float32')\n",
    "trainWheelbase = trainWheelbase.groupby(trainWheelbase['wheelbase']).agg('sum').reset_index()\n",
    "plt.bar(trainWheelbase['wheelbase'], trainWheelbase['sale_quantity'])\n",
    "plt.ylabel('sale_quantity')\n",
    "plt.xlabel('wheelbase')\n",
    "plt.show()"
   ]
  },
  {
   "cell_type": "markdown",
   "metadata": {},
   "source": [
    "##### 前轮距"
   ]
  },
  {
   "cell_type": "code",
   "execution_count": 14,
   "metadata": {
    "collapsed": false
   },
   "outputs": [
    {
     "data": {
      "image/png": "[encoded data removed]",
      "text/plain": [
       "<matplotlib.figure.Figure at 0x14e8f5b0a20>"
      ]
     },
     "metadata": {},
     "output_type": "display_data"
    }
   ],
   "source": [
    "labels = ['front_track', 'sale_quantity']\n",
    "trainFtrack = train[labels]\n",
    "trainFtrack['front_track'].astype('float32')\n",
    "trainFtrack = trainFtrack.groupby(trainFtrack['front_track']).agg('sum').reset_index()\n",
    "plt.bar(trainFtrack['front_track'], trainFtrack['sale_quantity'])\n",
    "plt.ylabel('sale_quantity')\n",
    "plt.xlabel('front_track')\n",
    "plt.show()"
   ]
  },
  {
   "cell_type": "markdown",
   "metadata": {},
   "source": [
    "##### 后轮距"
   ]
  },
  {
   "cell_type": "code",
   "execution_count": 15,
   "metadata": {
    "collapsed": false
   },
   "outputs": [
    {
     "data": {
      "image/png": "[encoded data removed]",
      "text/plain": [
       "<matplotlib.figure.Figure at 0x14e8faeee10>"
      ]
     },
     "metadata": {},
     "output_type": "display_data"
    }
   ],
   "source": [
    "labels = ['rear_track', 'sale_quantity']\n",
    "trainRtrack = train[labels]\n",
    "trainRtrack['rear_track'].astype('float32')\n",
    "trainRtrack = trainRtrack.groupby(trainRtrack['rear_track']).agg('sum').reset_index()\n",
    "plt.bar(trainRtrack['rear_track'], trainRtrack['sale_quantity'])\n",
    "plt.ylabel('sale_quantity')\n",
    "plt.xlabel('rear_track')\n",
    "plt.show()"
   ]
  }
 ],
 "metadata": {
  "anaconda-cloud": {},
  "kernelspec": {
   "display_name": "Python 3",
   "language": "python",
   "name": "python3"
  },
  "language_info": {
   "codemirror_mode": {
    "name": "ipython",
    "version": 3
   },
   "file_extension": ".py",
   "mimetype": "text/x-python",
   "name": "python",
   "nbconvert_exporter": "python",
   "pygments_lexer": "ipython3",
   "version": "3.6.0"
  }
 },
 "nbformat": 4,
 "nbformat_minor": 2
}
